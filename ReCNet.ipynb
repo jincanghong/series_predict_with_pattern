{
 "cells": [
  {
   "cell_type": "code",
   "execution_count": 1,
   "id": "dirty-trail",
   "metadata": {},
   "outputs": [],
   "source": [
    "import numpy as np\n",
    "import pandas as pd\n",
    "import matplotlib.pyplot as plt\n",
    "import seaborn as sns\n",
    "sns.set_style('whitegrid')\n",
    "%matplotlib widget\n",
    "%matplotlib inline"
   ]
  },
  {
   "cell_type": "markdown",
   "id": "bibliographic-oklahoma",
   "metadata": {},
   "source": [
    "### 读取数据集"
   ]
  },
  {
   "cell_type": "code",
   "execution_count": 2,
   "id": "obvious-authentication",
   "metadata": {},
   "outputs": [],
   "source": [
    "import os\n",
    "def get_datasets(path='../UCRArchive_2018'):\n",
    "    dirs = os.listdir(path)\n",
    "    return dirs"
   ]
  },
  {
   "cell_type": "code",
   "execution_count": 3,
   "id": "hundred-brand",
   "metadata": {},
   "outputs": [
    {
     "name": "stdout",
     "output_type": "stream",
     "text": [
      "['Fungi', 'Yoga', 'ECGFiveDays', 'Wine', 'Symbols', 'SemgHandGenderCh2', 'FordB', 'SmallKitchenAppliances', 'SonyAIBORobotSurface2', 'MoteStrain', 'MixedShapesSmallTrain', 'Worms', 'UWaveGestureLibraryY', 'TwoLeadECG', 'GunPointAgeSpan', 'UMD', 'CinCECGTorso', 'PhalangesOutlinesCorrect', 'Adiac', 'DodgerLoopWeekend', 'CBF', 'PigCVP', 'DistalPhalanxTW', 'FaceFour', 'Crop', 'ElectricDevices', 'OliveOil', 'Chinatown', 'GunPointOldVersusYoung', 'HouseTwenty', 'UWaveGestureLibraryAll', 'DodgerLoopDay', 'DodgerLoopGame', 'Car', 'AllGestureWiimoteY', 'HandOutlines', 'BirdChicken', 'WordSynonyms', 'SmoothSubspace', 'SyntheticControl', 'BME', 'UWaveGestureLibraryZ', 'TwoPatterns', 'FordA', 'FiftyWords', 'UWaveGestureLibraryX', 'SemgHandMovementCh2', 'FaceAll', 'FreezerSmallTrain', 'ProximalPhalanxTW', 'PickupGestureWiimoteZ', 'DistalPhalanxOutlineAgeGroup', 'Meat', 'MixedShapesRegularTrain', 'AllGestureWiimoteX', 'FacesUCR', 'InsectEPGRegularTrain', 'NonInvasiveFetalECGThorax1', 'ECG200', 'Beef', 'StarLightCurves', 'DiatomSizeReduction', 'PigArtPressure', 'Ham', 'DistalPhalanxOutlineCorrect', 'GesturePebbleZ1', 'ShapeletSim', 'SonyAIBORobotSurface1', 'FreezerRegularTrain', 'ScreenType', 'Lightning2', 'AllGestureWiimoteZ', 'GesturePebbleZ2', 'ToeSegmentation1', 'ECG5000', 'CricketX', 'InsectWingbeatSound', 'GestureMidAirD1', 'Haptics', 'InsectEPGSmallTrain', 'Trace', 'Wafer', 'WormsTwoClass', 'Phoneme', 'SemgHandSubjectCh2', 'Missing_value_and_variable_length_datasets_adjusted', 'PigAirwayPressure', 'Rock', 'Plane', 'ShapesAll', 'Herring', 'Strawberry', 'BeetleFly', 'Computers', 'ItalyPowerDemand', 'CricketZ', 'NonInvasiveFetalECGThorax2', 'MiddlePhalanxTW', 'EOGHorizontalSignal', 'GunPointMaleVersusFemale', 'MiddlePhalanxOutlineCorrect', 'OSULeaf', 'Lightning7', 'SwedishLeaf', 'ToeSegmentation2', 'Mallat', 'ProximalPhalanxOutlineCorrect', 'Earthquakes', 'ACSF1', 'MelbournePedestrian', 'EOGVerticalSignal', 'GunPoint', 'InlineSkate', 'ArrowHead', 'RefrigerationDevices', 'ProximalPhalanxOutlineAgeGroup', 'MiddlePhalanxOutlineAgeGroup', 'GestureMidAirD3', 'Fish', 'PLAID', 'MedicalImages', 'GestureMidAirD2', 'CricketY', 'EthanolLevel', 'ShakeGestureWiimoteZ', 'LargeKitchenAppliances', 'Coffee', 'PowerCons', 'ChlorineConcentration']\n"
     ]
    }
   ],
   "source": [
    "datasets = get_datasets()\n",
    "print(datasets)"
   ]
  },
  {
   "cell_type": "code",
   "execution_count": 4,
   "id": "surrounded-favor",
   "metadata": {},
   "outputs": [],
   "source": [
    "def load_data(dataset='ACSF1', path = '../UCRArchive_2018/'):\n",
    "    # define paths\n",
    "    path += '%s/' % dataset\n",
    "    train_path = path + '%s_TRAIN.tsv' % dataset\n",
    "    test_path = path + '%s_TEST.tsv' % dataset\n",
    "    # load data\n",
    "    train_data = pd.read_csv(train_path, sep='\\t', header=None)\n",
    "    test_data = train = pd.read_csv(test_path, sep='\\t', header=None)\n",
    "    # load info\n",
    "    info_path = path + 'README.md'\n",
    "    with open(info_path, encoding='utf-8') as f:\n",
    "        line = f.readlines()\n",
    "        for each in line:\n",
    "            if each != '\\n': print(each)\n",
    "    return train_data, test_data"
   ]
  },
  {
   "cell_type": "code",
   "execution_count": 22,
   "id": "discrete-syracuse",
   "metadata": {},
   "outputs": [
    {
     "name": "stdout",
     "output_type": "stream",
     "text": [
      "OSULeaf\n"
     ]
    }
   ],
   "source": [
    "dataset = datasets[6]\n",
    "dataset='OSULeaf'\n",
    "print(dataset)"
   ]
  },
  {
   "cell_type": "code",
   "execution_count": 23,
   "id": "double-territory",
   "metadata": {},
   "outputs": [],
   "source": [
    "path = './%s/' % dataset\n",
    "if not os.path.exists(path):\n",
    "    os.makedirs(path)"
   ]
  },
  {
   "cell_type": "code",
   "execution_count": 24,
   "id": "quarterly-customs",
   "metadata": {},
   "outputs": [
    {
     "name": "stdout",
     "output_type": "stream",
     "text": [
      "# OSULeaf\n",
      "\n",
      "The *OSULeaf* data set consists of one dimensional outlines of leaves. The series were obtained by color image segmentation and boundary extraction (in the anti-clockwise direction) from digitized leaf images of six classes: Acer Circinatum, Acer Glabrum, Acer Macrophyllum, Acer Negundo, Quercus Garryana and Quercus Kelloggii. Data were made as part of the MSc thesis of Ashit Grandhi [1].\n",
      "\n",
      "Train size: 200\n",
      "\n",
      "Test size: 242\n",
      "\n",
      "Missing value: No\n",
      "\n",
      "Number of classses: 6\n",
      "\n",
      "Time series length: 427\n",
      "\n",
      "Data donated by Ashit Gandhi (see [1], [2]).\n",
      "\n",
      "[1] Gandhi, Ashit. \"Content-based image retrieval: Plant species identification.\" Oregon State University (2002).\n",
      "\n",
      "[2] http://www.timeseriesclassification.com/description.php?Dataset=OSULeaf\n"
     ]
    }
   ],
   "source": [
    "train, test = load_data(dataset=dataset)"
   ]
  },
  {
   "cell_type": "code",
   "execution_count": 25,
   "id": "expanded-performer",
   "metadata": {},
   "outputs": [
    {
     "data": {
      "text/plain": [
       "((200, 428), (242, 428))"
      ]
     },
     "execution_count": 25,
     "metadata": {},
     "output_type": "execute_result"
    }
   ],
   "source": [
    "train.shape, test.shape"
   ]
  },
  {
   "cell_type": "code",
   "execution_count": 18,
   "id": "gross-genetics",
   "metadata": {},
   "outputs": [],
   "source": [
    "def merge_data(train, test):\n",
    "    frames = [train, test]\n",
    "    data = pd.concat(frames)\n",
    "    return data"
   ]
  },
  {
   "cell_type": "code",
   "execution_count": 10,
   "id": "norman-subscriber",
   "metadata": {},
   "outputs": [],
   "source": [
    "data = merge_data(train, test)"
   ]
  },
  {
   "cell_type": "code",
   "execution_count": 11,
   "id": "animated-discrimination",
   "metadata": {},
   "outputs": [
    {
     "data": {
      "text/plain": [
       "(200, 276)"
      ]
     },
     "execution_count": 11,
     "metadata": {},
     "output_type": "execute_result"
    }
   ],
   "source": [
    "data.shape"
   ]
  },
  {
   "cell_type": "code",
   "execution_count": 12,
   "id": "going-sending",
   "metadata": {},
   "outputs": [],
   "source": [
    "def seperate_label(data):\n",
    "    data = np.array(data)\n",
    "    label = data[:, 0]\n",
    "    value = data[:, 1: ]\n",
    "    return label, value"
   ]
  },
  {
   "cell_type": "code",
   "execution_count": 13,
   "id": "secure-backing",
   "metadata": {},
   "outputs": [],
   "source": [
    "label, value = seperate_label(data)"
   ]
  },
  {
   "cell_type": "code",
   "execution_count": 14,
   "id": "specialized-drawing",
   "metadata": {},
   "outputs": [
    {
     "data": {
      "text/plain": [
       "((200, 275), (200,))"
      ]
     },
     "execution_count": 14,
     "metadata": {},
     "output_type": "execute_result"
    }
   ],
   "source": [
    "value.shape, label.shape"
   ]
  },
  {
   "cell_type": "markdown",
   "id": "serious-machine",
   "metadata": {},
   "source": [
    "### 切割x与y"
   ]
  },
  {
   "cell_type": "code",
   "execution_count": 15,
   "id": "agreed-commissioner",
   "metadata": {},
   "outputs": [],
   "source": [
    "value = value.reshape(value.shape[0], value.shape[1], 1)"
   ]
  },
  {
   "cell_type": "code",
   "execution_count": 16,
   "id": "informal-float",
   "metadata": {},
   "outputs": [],
   "source": [
    "def split_x_y(value, ratio=0.2):\n",
    "    y_len = int(value.shape[1] * ratio)\n",
    "    x_len = int(value.shape[1] - y_len)\n",
    "    return value[:, : x_len], value[:, -y_len: ]"
   ]
  },
  {
   "cell_type": "code",
   "execution_count": 17,
   "id": "reduced-greece",
   "metadata": {},
   "outputs": [],
   "source": [
    "x, y = split_x_y(value, ratio=0.2)"
   ]
  },
  {
   "cell_type": "code",
   "execution_count": 18,
   "id": "affected-doubt",
   "metadata": {},
   "outputs": [
    {
     "data": {
      "text/plain": [
       "((200, 220, 1), (200, 55, 1))"
      ]
     },
     "execution_count": 18,
     "metadata": {},
     "output_type": "execute_result"
    }
   ],
   "source": [
    "x.shape, y.shape"
   ]
  },
  {
   "cell_type": "code",
   "execution_count": 19,
   "id": "figured-japanese",
   "metadata": {},
   "outputs": [
    {
     "data": {
      "text/plain": [
       "(200, 275)"
      ]
     },
     "execution_count": 19,
     "metadata": {},
     "output_type": "execute_result"
    }
   ],
   "source": [
    "value[:, :, 0].shape"
   ]
  },
  {
   "cell_type": "code",
   "execution_count": null,
   "id": "inside-leadership",
   "metadata": {},
   "outputs": [],
   "source": [
    "# save dataset\n",
    "save_data = {'data': value[:, :, 0], 'prediction_length': y.shape[1]}\n",
    "np.save('./datasets/%s.npy' % dataset, save_data)"
   ]
  },
  {
   "cell_type": "markdown",
   "id": "angry-nigeria",
   "metadata": {},
   "source": [
    "### K-Shape 聚类"
   ]
  },
  {
   "cell_type": "code",
   "execution_count": null,
   "id": "serial-empty",
   "metadata": {},
   "outputs": [],
   "source": [
    "from tslearn.clustering import KShape"
   ]
  },
  {
   "cell_type": "code",
   "execution_count": null,
   "id": "mysterious-security",
   "metadata": {},
   "outputs": [],
   "source": [
    "seed = 42\n",
    "clusters = len(set(label))\n",
    "print(clusters, 'clusters in total')"
   ]
  },
  {
   "cell_type": "code",
   "execution_count": null,
   "id": "first-meditation",
   "metadata": {
    "scrolled": true
   },
   "outputs": [],
   "source": [
    "ks = KShape(n_clusters=clusters, verbose=True, random_state=seed)\n",
    "label_ks = ks.fit_predict(x)"
   ]
  },
  {
   "cell_type": "markdown",
   "id": "damaged-luxury",
   "metadata": {},
   "source": [
    "### 计算轮廓系数"
   ]
  },
  {
   "cell_type": "code",
   "execution_count": null,
   "id": "developmental-acceptance",
   "metadata": {},
   "outputs": [],
   "source": [
    "# from tslearn.clustering import silhouette_score\n",
    "\n",
    "# dists = ks._mx_cross_dist(x)\n",
    "# np.fill_diagonal(dists, 0) # 重要 由于计算出的距离矩阵只是负8次方，还不是真正的零，得替换，否则会报错\n",
    "\n",
    "# score = silhouette_score(dists, label, metric=\"precomputed\")\n",
    "# print(score)"
   ]
  },
  {
   "cell_type": "markdown",
   "id": "partial-today",
   "metadata": {},
   "source": [
    "### ------------------------"
   ]
  },
  {
   "cell_type": "code",
   "execution_count": null,
   "id": "expensive-annotation",
   "metadata": {},
   "outputs": [],
   "source": [
    "x_plot = x"
   ]
  },
  {
   "cell_type": "code",
   "execution_count": 20,
   "id": "physical-pharmacology",
   "metadata": {},
   "outputs": [],
   "source": [
    "fontsize=30\n",
    "labelcolor='black'"
   ]
  },
  {
   "cell_type": "code",
   "execution_count": null,
   "id": "muslim-morris",
   "metadata": {},
   "outputs": [],
   "source": [
    "# display_start, display_end=0, 100\n",
    "\n",
    "# fig=plt.figure(figsize=(30,4))\n",
    "# grid=plt.GridSpec(1, clusters, wspace=0.3, hspace=0.4)\n",
    "\n",
    "# # clusters\n",
    "# i = 0\n",
    "# for label in range(clusters):\n",
    "#     plt.subplot(grid[0, i])\n",
    "#     series = x_plot[label_ks == label][display_start: display_end]\n",
    "#     for s in series:\n",
    "#         plt.plot(np.arange(0, len(s)), s.ravel(), \"k-\", alpha=.5)\n",
    "#     # center\n",
    "#     center_s = np.mean(series, axis=0)\n",
    "    \n",
    "#     bwith = 2\n",
    "#     bcolor = 'black'\n",
    "#     ax = plt.gca()\n",
    "#     ax.spines['bottom'].set_color(bcolor)\n",
    "#     ax.spines['left'].set_color(bcolor)\n",
    "#     ax.spines['top'].set_color(bcolor)\n",
    "#     ax.spines['right'].set_color(bcolor)\n",
    "\n",
    "#     ax.spines['bottom'].set_linewidth(bwith)\n",
    "#     ax.spines['left'].set_linewidth(bwith)\n",
    "#     ax.spines['top'].set_linewidth(bwith)\n",
    "#     ax.spines['right'].set_linewidth(bwith)\n",
    "    \n",
    "#     plt.plot(np.arange(0, center_s.shape[0]), center_s.ravel(), 'r-', linewidth=1.5, alpha=0.8)\n",
    "#     plt.title('cluster%d' % (label + 1), fontsize=fontsize, color=labelcolor)\n",
    "#     i += 1\n",
    "#     plt.tick_params(labelsize=fontsize, labelcolor=labelcolor)\n",
    "#     plt.xlim(0, series.shape[1]-1)\n",
    "#     plt.ylim(np.min(series), np.max(series) + 1)\n",
    "    \n",
    "# plt.tight_layout()\n",
    "# plt.savefig('%scluster_kshape_%s.pdf' % (path, dataset), dpi=1200, format='pdf')\n",
    "# plt.show()"
   ]
  },
  {
   "cell_type": "code",
   "execution_count": null,
   "id": "rough-constitution",
   "metadata": {},
   "outputs": [],
   "source": [
    "# for i in range(clusters):\n",
    "#     print(\"cluster %d: %d samples\" % (i + 1, sum(label_ks == i)))"
   ]
  },
  {
   "cell_type": "markdown",
   "id": "parental-breath",
   "metadata": {},
   "source": [
    "### Shapelet 提取"
   ]
  },
  {
   "cell_type": "code",
   "execution_count": null,
   "id": "express-brief",
   "metadata": {},
   "outputs": [],
   "source": [
    "import tensorflow as tf\n",
    "from tslearn.shapelets import LearningShapelets, grabocka_params_to_shapelet_size_dict\n",
    "from sklearn.metrics import accuracy_score\n",
    "from tslearn.utils import ts_size"
   ]
  },
  {
   "cell_type": "code",
   "execution_count": null,
   "id": "studied-pride",
   "metadata": {},
   "outputs": [],
   "source": [
    "# Get statistics of the dataset\n",
    "n_ts, ts_sz = x.shape[:2]\n",
    "n_classes = len(set(label_ks))"
   ]
  },
  {
   "cell_type": "code",
   "execution_count": null,
   "id": "active-shirt",
   "metadata": {},
   "outputs": [],
   "source": [
    "n_classes"
   ]
  },
  {
   "cell_type": "code",
   "execution_count": null,
   "id": "polished-blast",
   "metadata": {},
   "outputs": [],
   "source": [
    "# Set the number of shapelets per size as done in the original paper\n",
    "shapelet_sizes = grabocka_params_to_shapelet_size_dict(n_ts=n_ts,\n",
    "                                                       ts_sz=ts_sz,\n",
    "                                                       n_classes=n_classes,\n",
    "                                                       l=0.05,\n",
    "                                                       r=1)\n",
    "print(shapelet_sizes)"
   ]
  },
  {
   "cell_type": "code",
   "execution_count": null,
   "id": "intensive-regard",
   "metadata": {},
   "outputs": [],
   "source": [
    "for key, value in shapelet_sizes.items():\n",
    "    if key % 2 != 0:\n",
    "        shapelet_sizes = {key + 1: value}\n",
    "print(shapelet_sizes)"
   ]
  },
  {
   "cell_type": "code",
   "execution_count": null,
   "id": "intermediate-examination",
   "metadata": {
    "scrolled": true
   },
   "outputs": [],
   "source": [
    "shp_clf = LearningShapelets(n_shapelets_per_size=shapelet_sizes,\n",
    "                            optimizer=tf.optimizers.Adam(.06),\n",
    "                            batch_size=1024,\n",
    "                            weight_regularizer=1e-3,\n",
    "                            max_iter=200,\n",
    "                            random_state=42,\n",
    "                            verbose=2)\n",
    "shp_clf.fit(x, label_ks)"
   ]
  },
  {
   "cell_type": "code",
   "execution_count": null,
   "id": "obvious-enemy",
   "metadata": {},
   "outputs": [],
   "source": [
    "# The loss history is accessible via the `model_` that is a keras model\n",
    "plt.figure()\n",
    "plt.plot(np.arange(1, shp_clf.n_iter_ + 1), shp_clf.history_[\"loss\"])\n",
    "plt.title(\"Evolution of cross-entropy loss during training\")\n",
    "plt.xlabel(\"Epochs\")\n",
    "plt.tight_layout()\n",
    "plt.show()"
   ]
  },
  {
   "cell_type": "code",
   "execution_count": null,
   "id": "patent-corpus",
   "metadata": {},
   "outputs": [],
   "source": [
    "# Make predictions and calculate accuracy score\n",
    "pred_labels = shp_clf.predict(x)\n",
    "print(\"Correct classification rate:\", accuracy_score(label_ks, pred_labels))"
   ]
  },
  {
   "cell_type": "markdown",
   "id": "falling-messaging",
   "metadata": {},
   "source": [
    "### 分类评价"
   ]
  },
  {
   "cell_type": "code",
   "execution_count": null,
   "id": "actual-parliament",
   "metadata": {},
   "outputs": [],
   "source": [
    "import sklearn.metrics as metrics"
   ]
  },
  {
   "cell_type": "markdown",
   "id": "viral-concert",
   "metadata": {},
   "source": [
    "海明距离 - [0,1]距离为0说明预测结果与真实结果完全相同，距离为1就说明模型与我们想要的结果完全就是背道而驰。"
   ]
  },
  {
   "cell_type": "code",
   "execution_count": null,
   "id": "permanent-narrative",
   "metadata": {},
   "outputs": [],
   "source": [
    "metrics.hamming_loss(label_ks, pred_labels)"
   ]
  },
  {
   "cell_type": "markdown",
   "id": "preceding-actress",
   "metadata": {},
   "source": [
    "杰卡德相似系数 - 当预测结果与实际情况完全相符时，系数为1；当预测结果与实际情况完全不符时，系数为0；当预测结果是实际情况的真子集或真超集时，距离介于0到1之间。"
   ]
  },
  {
   "cell_type": "code",
   "execution_count": null,
   "id": "comparative-chorus",
   "metadata": {},
   "outputs": [],
   "source": [
    "metrics.jaccard_score(label_ks, pred_labels, average='micro')"
   ]
  },
  {
   "cell_type": "code",
   "execution_count": null,
   "id": "expired-aside",
   "metadata": {},
   "outputs": [],
   "source": [
    "metrics.jaccard_score(label_ks, pred_labels, average='macro')"
   ]
  },
  {
   "cell_type": "code",
   "execution_count": null,
   "id": "juvenile-scotland",
   "metadata": {},
   "outputs": [],
   "source": [
    "metrics.jaccard_score(label_ks, pred_labels, average='weighted')"
   ]
  },
  {
   "cell_type": "markdown",
   "id": "seven-walter",
   "metadata": {},
   "source": [
    "Kappa系数 - kappa系数是用在统计学中评估一致性的一种方法，取值范围是[-1,1]，实际应用中，一般是[0,1]，与ROC曲线中一般不会出现下凸形曲线的原理类似。这个系数的值越高，则代表模型实现的分类准确度越高。"
   ]
  },
  {
   "cell_type": "code",
   "execution_count": null,
   "id": "entire-malta",
   "metadata": {},
   "outputs": [],
   "source": [
    "metrics.cohen_kappa_score(label_ks, pred_labels)"
   ]
  },
  {
   "cell_type": "markdown",
   "id": "negative-conversation",
   "metadata": {},
   "source": [
    "分类报告"
   ]
  },
  {
   "cell_type": "code",
   "execution_count": null,
   "id": "impressed-mediterranean",
   "metadata": {},
   "outputs": [],
   "source": [
    "metrics.classification_report(label_ks, pred_labels, output_dict=True)"
   ]
  },
  {
   "cell_type": "markdown",
   "id": "guided-astrology",
   "metadata": {},
   "source": [
    "### ------------------------------"
   ]
  },
  {
   "cell_type": "code",
   "execution_count": null,
   "id": "rational-television",
   "metadata": {},
   "outputs": [],
   "source": [
    "# save pre trained shapelets\n",
    "shp_path = '%sshapelets' % path\n",
    "shapelets = shp_clf.shapelets_as_time_series_\n",
    "np.save(shp_path, shapelets)"
   ]
  },
  {
   "cell_type": "code",
   "execution_count": null,
   "id": "figured-sweden",
   "metadata": {},
   "outputs": [],
   "source": [
    "# Plot the different discovered shapelets\n",
    "plt.figure()\n",
    "for i, sz in enumerate(shapelet_sizes.keys()):\n",
    "    plt.subplot(len(shapelet_sizes), 1, i + 1)\n",
    "    plt.title(\"%d shapelets of size %d\" % (shapelet_sizes[sz], sz))\n",
    "    for shp in shp_clf.shapelets_:\n",
    "        if ts_size(shp) == sz:\n",
    "            plt.plot(shp.ravel())\n",
    "    plt.xlim([0, max(shapelet_sizes.keys()) - 1])\n",
    "\n",
    "plt.tight_layout()\n",
    "plt.show()"
   ]
  },
  {
   "cell_type": "code",
   "execution_count": null,
   "id": "boxed-closure",
   "metadata": {},
   "outputs": [],
   "source": [
    "shapelets = shp_clf.shapelets_\n",
    "s = shp_clf.shapelets_as_time_series_\n",
    "predicted_locations = shp_clf.locate(x)"
   ]
  },
  {
   "cell_type": "code",
   "execution_count": 21,
   "id": "secret-subdivision",
   "metadata": {},
   "outputs": [
    {
     "data": {
      "text/plain": [
       "(200, 1, 55)"
      ]
     },
     "execution_count": 21,
     "metadata": {},
     "output_type": "execute_result"
    }
   ],
   "source": [
    "y = y.reshape(y.shape[0], 1, y.shape[1])\n",
    "y.shape"
   ]
  },
  {
   "cell_type": "code",
   "execution_count": 22,
   "id": "bulgarian-luxury",
   "metadata": {},
   "outputs": [
    {
     "data": {
      "text/plain": [
       "(200, 1, 220)"
      ]
     },
     "execution_count": 22,
     "metadata": {},
     "output_type": "execute_result"
    }
   ],
   "source": [
    "x = x.reshape(x.shape[0], 1, x.shape[1])\n",
    "x.shape"
   ]
  },
  {
   "cell_type": "markdown",
   "id": "intellectual-newfoundland",
   "metadata": {},
   "source": [
    "### 训练网络"
   ]
  },
  {
   "cell_type": "code",
   "execution_count": 23,
   "id": "after-surveillance",
   "metadata": {},
   "outputs": [],
   "source": [
    "import torch.nn as nn\n",
    "import torch\n",
    "import torch.nn.functional as F\n",
    "import torch.utils.data as Data\n",
    "from torch import optim"
   ]
  },
  {
   "cell_type": "code",
   "execution_count": 24,
   "id": "emotional-theory",
   "metadata": {},
   "outputs": [],
   "source": [
    "from sklearn.model_selection import train_test_split\n",
    "import sklearn.preprocessing as preprocessing\n",
    "import numpy as np\n",
    "import pandas as pd\n",
    "from scipy import signal\n",
    "import time"
   ]
  },
  {
   "cell_type": "code",
   "execution_count": 25,
   "id": "invalid-individual",
   "metadata": {},
   "outputs": [],
   "source": [
    "def diff1d(x):\n",
    "    d = None\n",
    "    for i in range(1, x.shape[2]):\n",
    "        di = x[:, :, i: i + 1] - x[:, :, i - 1: i]\n",
    "        d = di if d is None else torch.cat((d, di), dim=2)\n",
    "    return d"
   ]
  },
  {
   "cell_type": "code",
   "execution_count": 26,
   "id": "central-institution",
   "metadata": {},
   "outputs": [],
   "source": [
    "def CORT(x, y):\n",
    "    numer = torch.sum(torch.mul(x, y), dim=2, keepdim=True)\n",
    "    n2x = torch.norm(x, p=2, dim=2, keepdim=True)\n",
    "    n2y = torch.norm(y, p=2, dim=2, keepdim=True)\n",
    "    cort = numer / (n2x * n2y + 1)\n",
    "    return cort"
   ]
  },
  {
   "cell_type": "code",
   "execution_count": 27,
   "id": "wrong-lindsay",
   "metadata": {},
   "outputs": [],
   "source": [
    "class QuantileLoss(nn.Module):\n",
    "\n",
    "    def __init__(self, quantiles):\n",
    "        # list of quantiles\n",
    "        super().__init__()\n",
    "        self.quantiles = quantiles\n",
    "        \n",
    "    def forward(self, preds, target):\n",
    "        assert not target.requires_grad\n",
    "        assert preds.size(0) == target.size(0)\n",
    "        losses = []\n",
    "        for i, q in enumerate(self.quantiles):\n",
    "            errors = target - preds\n",
    "            losses.append(\n",
    "                2 * torch.max(\n",
    "                   (q-1) * errors, \n",
    "                   q * errors\n",
    "            ).unsqueeze(1))\n",
    "        loss = torch.mean(\n",
    "            torch.sum(torch.cat(losses, dim=1), dim=1))\n",
    "        return loss"
   ]
  },
  {
   "cell_type": "code",
   "execution_count": 28,
   "id": "demonstrated-journalist",
   "metadata": {},
   "outputs": [],
   "source": [
    "class Clip1d(nn.Module):\n",
    "    def __init__(self, clip_size):\n",
    "        super(Clip1d, self).__init__()\n",
    "        self.clip_size = clip_size\n",
    "\n",
    "    def forward(self, x):\n",
    "        return x[:, :, :-self.clip_size].contiguous()"
   ]
  },
  {
   "cell_type": "code",
   "execution_count": 29,
   "id": "major-fraud",
   "metadata": {},
   "outputs": [],
   "source": [
    "class CausalConv1d(nn.Conv1d):\n",
    "    def __init__(self, in_channels, out_channels, kernel_size=1, stride=1,\n",
    "                 padding=0, dilation=1, groups=1, bias=False):\n",
    "        super(CausalConv1d, self).__init__(in_channels, out_channels, kernel_size, stride,\n",
    "                                           padding, dilation, groups, bias)\n",
    "    \n",
    "    def forward(self, inputs):\n",
    "        outputs = super(CausalConv1d, self).forward(inputs)\n",
    "        return outputs"
   ]
  },
  {
   "cell_type": "code",
   "execution_count": 30,
   "id": "shaped-manhattan",
   "metadata": {},
   "outputs": [],
   "source": [
    "class ResidualAtrousConv1d(nn.Module):\n",
    "    def __init__(self, in_channels, out_channels, kernel_size, stride, dilation, padding, dropout=0.2):\n",
    "        super(ResidualAtrousConv1d, self).__init__()\n",
    "        self.conv1 = CausalConv1d(in_channels, out_channels, kernel_size,\n",
    "                                  stride=stride, padding=padding, dilation=dilation)\n",
    "        self.bn1 = nn.BatchNorm1d(out_channels)\n",
    "        self.clip1 = Clip1d(padding)\n",
    "        self.relu1 = nn.ReLU()\n",
    "        self.dropout1 = nn.Dropout(dropout)\n",
    "\n",
    "        self.conv2 = CausalConv1d(out_channels, out_channels, kernel_size,\n",
    "                                  stride=stride, padding=padding, dilation=dilation)\n",
    "        self.bn2 = nn.BatchNorm1d(out_channels)\n",
    "        self.clip2 = Clip1d(padding)\n",
    "        self.relu2 = nn.ReLU()\n",
    "        self.dropout2 = nn.Dropout(dropout)\n",
    "\n",
    "        self.net = nn.Sequential(self.conv1, self.bn1, self.clip1, self.relu1, self.dropout1,\n",
    "                                 self.conv2, self.bn2, self.clip2, self.relu2, self.dropout2)\n",
    "        self.downsample = CausalConv1d(in_channels, out_channels, 1) if in_channels != out_channels else None\n",
    "        self.relu = nn.ReLU()\n",
    "\n",
    "    def forward(self, x):\n",
    "        out = self.net(x)\n",
    "        res = x if self.downsample is None else self.downsample(x)\n",
    "        return self.relu(out + res)"
   ]
  },
  {
   "cell_type": "code",
   "execution_count": 31,
   "id": "smart-thesaurus",
   "metadata": {},
   "outputs": [],
   "source": [
    "# class Shapelet1d(nn.Module):\n",
    "#     def __init__(self, in_channels, out_channels, shapelets, attrs, topk, shp_features):\n",
    "#         super(Shapelet1d, self).__init__()\n",
    "#         self.shapelets = shapelets\n",
    "#         self.pre_conv = CausalConv1d(in_channels=in_channels, out_channels=1, kernel_size=1)\n",
    "#         self.attrs = attrs\n",
    "#         self.topk = topk\n",
    "# #         self.attrs_num = len(attrs) if attrs is not None else 0\n",
    "# #         self.post_conv = CausalConv1d(in_channels=shapelets.shape[0] * self.attrs_num + 1, out_channels=out_channels, kernel_size=1)\n",
    "# #         self.bn = nn.BatchNorm1d(out_channels)\n",
    "# #         self.init_weights()\n",
    "    \n",
    "#     def compute_sim(self, x):\n",
    "#         m = x.shape[0] # batch size\n",
    "#         # zero padding\n",
    "#         pad = int(self.shapelets.shape[1] / 2)\n",
    "#         zero = torch.zeros(m, 1, pad).cuda()\n",
    "#         x_pad = torch.cat((zero, x, zero), dim=2)\n",
    "#         # transform\n",
    "#         vector_sample = torch.Tensor().cuda()\n",
    "        \n",
    "#         for i in range(pad, x_pad.shape[2] - pad, 1):\n",
    "#             ctx_l = x_pad[:, :, i-pad: i]\n",
    "#             ctx_r = x_pad[:, :, i+1: i+1+pad]\n",
    "#             context = torch.cat((ctx_l, ctx_r), dim=2)\n",
    "# #             context = x_pad[:, :, i-pad: i+1+pad]\n",
    "#             vector_sample = torch.cat((vector_sample, context), dim=1)\n",
    "        \n",
    "#         VSD, SBD = None, None\n",
    "#         for i in range(self.shapelets.shape[0]):\n",
    "#             shpi = torch.tensor(self.shapelets[i, :, 0], dtype=torch.float32).cuda()\n",
    "#             # VSD\n",
    "#             if 'VSD' in self.attrs:\n",
    "#                 featurei = torch.norm(vector_sample - shpi, p=2, dim=2, keepdim=True) / self.shapelets.shape[1]\n",
    "#                 featurei = featurei.permute((0, 2, 1))\n",
    "#                 VSD = featurei if VSD is None else torch.cat((VSD, featurei), dim=1)\n",
    "# #                 x = torch.cat((x, featurei), dim=1)\n",
    "            \n",
    "#             # SBD - CORT\n",
    "#             if 'SBD' in self.attrs: \n",
    "#                 shpi = shpi.reshape(1, 1, shpi.shape[0])\n",
    "#                 ds = diff1d(shpi)\n",
    "#                 dv = diff1d(vector_sample)\n",
    "#                 corti = CORT(ds, dv)\n",
    "#                 corti = corti.permute((0, 2, 1))\n",
    "#                 SBD = corti if SBD is None else torch.cat((SBD, corti), dim=1)\n",
    "# #                 x = torch.cat((x, corti), dim=1)\n",
    "    \n",
    "# #             # VMD\n",
    "# #             featurei = torch.norm(vector_sample - shpi, p=1, dim=2, keepdim=True) / self.shapelets.shape[1]\n",
    "# # #             featurei = featurei.view(m, featurei.shape[2], featurei.shape[1])\n",
    "# #             featurei = featurei.permute(0, 2, 1)\n",
    "# #             x = torch.cat((x, featurei), dim=1)\n",
    "        \n",
    "# #             # DPR\n",
    "# #             featurei = torch.sum(torch.mul(vector_sample, shpi), dim=2, keepdim=True) / (torch.sum(vector_sample, dim=2, keepdim=True) + 1)\n",
    "# #             featurei = featurei.view(m, featurei.shape[2], featurei.shape[1])\n",
    "# # #             featurei = featurei.permute(0, 2, 1)\n",
    "# #             x = torch.cat((x, featurei), dim=1)\n",
    "            \n",
    "#         return VSD, SBD\n",
    "    \n",
    "#     def fuse_sim(self, VSD, SBD):\n",
    "#         VSDk, VSDk_idx = VSD.topk(self.topk, dim=1, largest=True, sorted=True)\n",
    "#         SBDk, SBDk_idx = SBD.topk(self.topk, dim=1, largest=True, sorted=True)\n",
    "        \n",
    "#         ts_num, ts_len = VSD.shape[0], VSD.shape[-1]\n",
    "#         fVSD, fSBD = None, None\n",
    "#         for i in range(ts_num):\n",
    "#             # VSD\n",
    "#             VSDi = VSDk_idx[i, :, :]\n",
    "#             fi = None\n",
    "#             for j in range(ts_len):\n",
    "#                 for k in range(self.topk):\n",
    "#                     idx = VSDk_idx[i, k, j]\n",
    "#                     fi = shp_features[idx] if fi is None else fi + shp_features[idx]\n",
    "#             fi_VSD = fi / self.topk\n",
    "#             fi_VSD = fi_VSD.reshape(1, fi_VSD.shape[0])\n",
    "#             fVSD = fi_VSD if fVSD is None else torch.cat((fVSD, fi_VSD), dim=0)\n",
    "#             # SBD\n",
    "#             SBDi = SBDk_idx[i, :, :]\n",
    "#             fi = None\n",
    "#             for j in range(ts_len):\n",
    "#                 for k in range(self.topk):\n",
    "#                     idx = SBDk_idx[i, k, j]\n",
    "#                     fi = shp_features[idx] if fi is None else fi + shp_features[idx]\n",
    "#             fi_SBD = fi / self.topk\n",
    "#             fi_SBD = fi_SBD.reshape(1, fi_SBD.shape[0])\n",
    "#             fSBD = fi_SBD if fSBD is None else torch.cat((fSBD, fi_SBD), dim=0)\n",
    "#         return fVSD, fSBD    \n",
    "        \n",
    "\n",
    "#     def init_weights(self):\n",
    "#         self.pre_conv.weight.data.normal_(0, 0.01)\n",
    "#         self.post_conv.weight.data.normal_(0, 0.01)\n",
    "    \n",
    "#     def forward(self, x):\n",
    "# #         x = self.pre_conv(x)\n",
    "#         VSD, SBD = self.compute_sim(x)\n",
    "#         print(VSD.shape, SBD.shape)\n",
    "        \n",
    "#         self.fuse_sim(VSD, SBD)\n",
    "        \n",
    "# #         x_avg = torch.mean(x, dim=2)\n",
    "# #         x_avg = x_avg[:, 1: ]\n",
    "# #         x = self.post_conv(x)\n",
    "# #         x = torch.relu(x)\n",
    "# #         x = self.bn(x)\n",
    "#         return x\n",
    "# #         return x"
   ]
  },
  {
   "cell_type": "code",
   "execution_count": 32,
   "id": "pending-virtue",
   "metadata": {},
   "outputs": [],
   "source": [
    "from tsfresh.feature_extraction.feature_calculators import *"
   ]
  },
  {
   "cell_type": "code",
   "execution_count": 33,
   "id": "joint-rotation",
   "metadata": {},
   "outputs": [],
   "source": [
    "class Shapelet1d():\n",
    "    def __init__(self, shapelets, attrs, topk):\n",
    "        self.shapelets = shapelets\n",
    "        self.attrs = attrs\n",
    "        self.topk = topk\n",
    "    \n",
    "    def extract_features(self):\n",
    "        num_shp = self.shapelets.shape[0]\n",
    "        shp_features = []\n",
    "        for i in range(num_shp):\n",
    "            shpi_features = []\n",
    "            shpi = self.shapelets[i, :, 0]\n",
    "            # --- features --- #\n",
    "            f = abs_energy(shpi)\n",
    "            shpi_features.append(f)\n",
    "\n",
    "            f = autocorrelation(shpi, lag=1)\n",
    "            shpi_features.append(f)\n",
    "\n",
    "            f = maximum(shpi)\n",
    "            shpi_features.append(f)\n",
    "\n",
    "            f = mean(shpi)\n",
    "            shpi_features.append(f)\n",
    "\n",
    "            f = mean_second_derivative_central(shpi)\n",
    "            shpi_features.append(f)\n",
    "\n",
    "            f = median(shpi)\n",
    "            shpi_features.append(f)\n",
    "\n",
    "            f = minimum(shpi)\n",
    "            shpi_features.append(f)\n",
    "\n",
    "            f = standard_deviation(shpi)\n",
    "            shpi_features.append(f)\n",
    "\n",
    "            f = variance(shpi)\n",
    "            shpi_features.append(f)\n",
    "\n",
    "            shp_features.append(shpi_features)\n",
    "        shp_features = torch.tensor(shp_features, dtype=torch.float32)\n",
    "        return shp_features\n",
    "    \n",
    "    def compute_sim(self, x):\n",
    "        print('computing similarity...', end='')\n",
    "        m = x.shape[0] # batch size\n",
    "        # zero padding\n",
    "        pad = int(self.shapelets.shape[1] / 2)\n",
    "        zero = torch.zeros(m, 1, pad)\n",
    "        x_pad = torch.cat((zero, x, zero), dim=2)\n",
    "        # transform\n",
    "        vector_sample = torch.Tensor()\n",
    "        \n",
    "        for i in range(pad, x_pad.shape[2] - pad, 1):\n",
    "            ctx_l = x_pad[:, :, i-pad: i]\n",
    "            ctx_r = x_pad[:, :, i+1: i+1+pad]\n",
    "            context = torch.cat((ctx_l, ctx_r), dim=2)\n",
    "            vector_sample = torch.cat((vector_sample, context), dim=1)\n",
    "        \n",
    "        VSD, SBD = None, None\n",
    "        for i in range(self.shapelets.shape[0]):\n",
    "            shpi = torch.tensor(self.shapelets[i, :, 0], dtype=torch.float32)\n",
    "            # VSD\n",
    "            if 'VSD' in self.attrs:\n",
    "                featurei = torch.norm(vector_sample - shpi, p=2, dim=2, keepdim=True) / self.shapelets.shape[1]\n",
    "                featurei = featurei.permute((0, 2, 1))\n",
    "                VSD = featurei if VSD is None else torch.cat((VSD, featurei), dim=1)\n",
    "            \n",
    "            # SBD - CORT\n",
    "            if 'SBD' in self.attrs: \n",
    "                shpi = shpi.reshape(1, 1, shpi.shape[0])\n",
    "                ds = diff1d(shpi)\n",
    "                dv = diff1d(vector_sample)\n",
    "                corti = CORT(ds, dv)\n",
    "                corti = corti.permute((0, 2, 1))\n",
    "                SBD = corti if SBD is None else torch.cat((SBD, corti), dim=1)\n",
    "        print('Done!')\n",
    "        return VSD, SBD\n",
    "    \n",
    "    def fuse_sim(self, VSD, SBD, shp_features):\n",
    "        if VSD is not None:\n",
    "            VSDk, VSDk_idx = VSD.topk(self.topk, dim=1, largest=True, sorted=True)\n",
    "            ts_num, ts_len = VSD.shape[0], VSD.shape[-1]\n",
    "        if SBD is not None:\n",
    "            SBDk, SBDk_idx = SBD.topk(self.topk, dim=1, largest=True, sorted=True)\n",
    "            ts_num, ts_len = SBD.shape[0], SBD.shape[-1]\n",
    "        \n",
    "        fVSD, fSBD = None, None\n",
    "        for i in range(ts_num):\n",
    "            print('\\rprocessing %d/%d...' % (i + 1, ts_num), end='')\n",
    "            # VSD\n",
    "            if VSD is not None:\n",
    "                VSDi = VSDk_idx[i, :, :]\n",
    "                fi = None\n",
    "                for j in range(ts_len):\n",
    "                    for k in range(self.topk):\n",
    "                        idx = VSDk_idx[i, k, j]\n",
    "                        fi = shp_features[idx] if fi is None else fi + shp_features[idx]\n",
    "                fi_VSD = fi / self.topk\n",
    "                fi_VSD = fi_VSD.reshape(1, fi_VSD.shape[0])\n",
    "                fVSD = fi_VSD if fVSD is None else torch.cat((fVSD, fi_VSD), dim=0)\n",
    "                \n",
    "            # SBD\n",
    "            if SBD is not None:\n",
    "                SBDi = SBDk_idx[i, :, :]\n",
    "                fi = None\n",
    "                for j in range(ts_len):\n",
    "                    for k in range(self.topk):\n",
    "                        idx = SBDk_idx[i, k, j]\n",
    "                        fi = shp_features[idx] if fi is None else fi + shp_features[idx]\n",
    "                fi_SBD = fi / self.topk\n",
    "                fi_SBD = fi_SBD.reshape(1, fi_SBD.shape[0])\n",
    "                fSBD = fi_SBD if fSBD is None else torch.cat((fSBD, fi_SBD), dim=0)\n",
    "        print('Done!')\n",
    "        return fVSD, fSBD    \n",
    "    \n",
    "    def feature_normalize(self, x):\n",
    "        mu = torch.mean(x)\n",
    "        std = torch.std(x)\n",
    "        return (x - mu)/std\n",
    "    \n",
    "    def fusion(self, x):\n",
    "        shp_features = self.extract_features()\n",
    "        VSD, SBD = self.compute_sim(x)\n",
    "        fVSD, fSBD = self.fuse_sim(VSD, SBD, shp_features)\n",
    "\n",
    "        if len(self.attrs) == 2:\n",
    "            fusion = torch.cat((fVSD, fSBD), dim=1)\n",
    "        elif len(self.attrs) == 1:\n",
    "            if fVSD is not None: fusion = fVSD \n",
    "            if fSBD is not None: fusion = fSBD \n",
    "        fusion = fusion.reshape(fusion.shape[0], 1, fusion.shape[-1])\n",
    "        fusion = self.feature_normalize(fusion)\n",
    "        return fusion"
   ]
  },
  {
   "cell_type": "code",
   "execution_count": 34,
   "id": "vietnamese-demographic",
   "metadata": {},
   "outputs": [],
   "source": [
    "class ReCNet(nn.Module):\n",
    "    def __init__(self, shapelets, num_inputs, num_channels, backcast_horizon, forecast_horizon,\n",
    "                 kernel_size=2, dropout=0.2, attrs=['VSD', 'SBD'], feature_len=9):\n",
    "        super(ReCNet, self).__init__()\n",
    "        self.attrs = attrs\n",
    "        self.out_channel = num_channels[-1]\n",
    "        self.backcast_horizon = backcast_horizon\n",
    "        if attrs is not None: self.fusion_len = feature_len * len(attrs)\n",
    "        self.fuser = Shapelet1d(shapelets=shapelets, attrs=attrs, topk=shapelets.shape[0] // 2)\n",
    "        \n",
    "        layers = []\n",
    "        num_levels = len(num_channels)\n",
    "        for i in range(num_levels):\n",
    "            dilation_size = 2 ** i\n",
    "            in_channels = num_inputs if i == 0 else num_channels[i - 1]\n",
    "            out_channels = num_channels[i]\n",
    "            layers += [ResidualAtrousConv1d(in_channels, out_channels, kernel_size, stride=1, dilation=dilation_size,\n",
    "                                            padding=(kernel_size - 1) * dilation_size, dropout=dropout)]\n",
    "        self.network = nn.Sequential(*layers)\n",
    "        if self.attrs is None: # fusion disabled\n",
    "            self.linear = nn.Linear(self.out_channel * self.backcast_horizon, forecast_horizon)\n",
    "        else: # fusion enabled\n",
    "            self.linear = nn.Linear(self.out_channel * self.backcast_horizon + self.fusion_len, forecast_horizon)\n",
    "    \n",
    "    def _initialize_weights(self, output=True):\n",
    "        for m in self.modules():\n",
    "            if output: print(m)\n",
    "            if isinstance(m, (nn.Linear, nn.Conv1d)):\n",
    "                torch.nn.init.xavier_uniform_(m.weight, gain=1)\n",
    "    \n",
    "    def preprocess(self, x, y, test_size=0.2, batch_size=256, random_seed=42):\n",
    "        # split\n",
    "        x_train, x_test, y_train, y_test = train_test_split(x, y, test_size=test_size, random_state=random_seed)\n",
    "        print(x_train.shape, y_train.shape, x_test.shape, y_test.shape)\n",
    "        # convert\n",
    "        x_train = torch.tensor(x_train, dtype=torch.float32)\n",
    "        y_train = torch.tensor(y_train, dtype=torch.float32)\n",
    "        x_test = torch.tensor(x_test, dtype=torch.float32)\n",
    "        y_test = torch.tensor(y_test, dtype=torch.float32)\n",
    "        \n",
    "        y_train = y_train.reshape(y_train.shape[0], y_train.shape[2])\n",
    "        y_test = y_test.reshape(y_test.shape[0], y_test.shape[2])\n",
    "        # fusion\n",
    "        if self.attrs is not None:\n",
    "            fusion = self.fuser.fusion(x_train)\n",
    "            x_train = torch.cat((x_train, fusion), dim=2)\n",
    "            fusion = self.fuser.fusion(x_test)\n",
    "            x_test = torch.cat((x_test, fusion), dim=2)\n",
    "        \n",
    "        # load\n",
    "        dataset_train = Data.TensorDataset(x_train, y_train)\n",
    "        loader = Data.DataLoader(dataset=dataset_train, batch_size=batch_size, shuffle=True, num_workers=2)\n",
    "        \n",
    "        batch_num = 0\n",
    "        for step, (batch_x, batch_y) in enumerate(loader):\n",
    "            print('x size:', batch_x.shape, ', y size:', batch_y.shape)\n",
    "            batch_num += 1\n",
    "        print('%d batches' % batch_num)\n",
    "        return loader, x_train, y_train, x_test, y_test\n",
    "        \n",
    "    def fit(self, loader, device, epochs=100, learning_rate=1e-3, weight_decay=1e-6):\n",
    "        self._initialize_weights(output=False)\n",
    "        criterion = QuantileLoss([0.1, 0.5, 0.9])\n",
    "        optimizer = optim.Adam(self.parameters(), lr=learning_rate, weight_decay=weight_decay)\n",
    "        train_losses, test_losses = [], []\n",
    "\n",
    "        for epoch in range(epochs):\n",
    "            batch_cnt, running_loss = 0, 0\n",
    "            t_start = time.time()\n",
    "            \n",
    "            for step, (batch_x, batch_y) in enumerate(loader):\n",
    "                input_x = batch_x.to(device)\n",
    "                y = batch_y.to(device)  \n",
    "\n",
    "                output_data = net(input_x)\n",
    "                loss = criterion(output_data, y)\n",
    "\n",
    "                loss.backward()\n",
    "                optimizer.step()\n",
    "                optimizer.zero_grad()\n",
    "\n",
    "                running_loss += loss.item()\n",
    "                batch_cnt += 1\n",
    "                \n",
    "            train_losses.append(running_loss / batch_cnt)\n",
    "            test_losses.append(criterion(net(x_test.to(device)), y_test.to(device)).item() )\n",
    "            t_end = time.time()\n",
    "\n",
    "            print('\\repoch=%d, loss=%.6f, time=%.2fs per epoch      ' \\\n",
    "                  % (epoch+1, train_losses[-1], t_end - t_start), end='')\n",
    "        return train_losses, test_losses\n",
    "\n",
    "    \n",
    "    def forward(self, x):\n",
    "        if self.attrs is not None:\n",
    "            x, x_fuse = x[:, :, :-self.fusion_len], x[:, :, -self.fusion_len: ]\n",
    "        \n",
    "        x_out = self.network(x)\n",
    "        x_out = x_out.view(-1, self.out_channel * self.backcast_horizon)\n",
    "        if self.attrs is not None:\n",
    "            x_fuse = x_fuse.reshape(x_fuse.shape[0], x_fuse.shape[-1])\n",
    "            x_out = torch.cat((x_out, x_fuse), dim=1)\n",
    "            \n",
    "        x_out = self.linear(x_out)\n",
    "        return x_out"
   ]
  },
  {
   "cell_type": "markdown",
   "id": "biological-defense",
   "metadata": {},
   "source": [
    "## ------------不同类别测试--------------"
   ]
  },
  {
   "cell_type": "code",
   "execution_count": 35,
   "id": "overhead-designation",
   "metadata": {},
   "outputs": [],
   "source": [
    "# s_label = set(label)\n",
    "# s_label"
   ]
  },
  {
   "cell_type": "code",
   "execution_count": 36,
   "id": "weighted-sharp",
   "metadata": {},
   "outputs": [],
   "source": [
    "# for each in s_label:\n",
    "#     each = int(each)\n",
    "#     print('*** label ', each, ' ***')\n",
    "#     x_c, y_c = x[label==each], y[label==each]\n",
    "    \n",
    "#     x_train, x_test, y_train, y_test = train_test_split(x_c, y_c, test_size=0.2)\n",
    "#     x_train = torch.tensor(x_train, dtype=torch.float32)\n",
    "#     y_train = torch.tensor(y_train, dtype=torch.float32)\n",
    "#     x_test = torch.tensor(x_test, dtype=torch.float32)\n",
    "#     y_test = torch.tensor(y_test, dtype=torch.float32)\n",
    "    \n",
    "#     y_train = y_train.reshape(y_train.shape[0], y_train.shape[2])\n",
    "#     y_test = y_test.reshape(y_test.shape[0], y_test.shape[2])\n",
    "    \n",
    "#     dataset_train = Data.TensorDataset(x_train, y_train)\n",
    "#     loader = Data.DataLoader(dataset=dataset_train, batch_size=128, shuffle=True, num_workers=2)\n",
    "    \n",
    "#     batch_num = 0\n",
    "#     for step, (batch_x, batch_y) in enumerate(loader):\n",
    "#         print('x size:', batch_x.shape, ', y size:', batch_y.shape)\n",
    "#         batch_num += 1\n",
    "#     print('%d batches' % batch_num)\n",
    "    \n",
    "#     device = torch.device(\"cuda:0\" if torch.cuda.is_available() else \"cpu\")\n",
    "    \n",
    "#     net = ReCNet(shapelets=None, num_inputs=1, num_channels=[4, 8, 16], \n",
    "#              backcast_horizon=x.shape[-1], forecast_horizon=y.shape[-1], \n",
    "#              kernel_size=2, dropout=0.2, attrs=None).to(device)\n",
    "    \n",
    "#     train_losses, test_losses = net.fit(loader=loader, device=device, epochs=200, learning_rate=1e-2, weight_decay=1e-6)\n",
    "#     print('')\n",
    "    \n",
    "#     p50 = normalized_quantile_loss(x_test, y_test, net, q=0.5).item()\n",
    "#     p90 = normalized_quantile_loss(x_test, y_test, net, q=0.9).item()\n",
    "#     print('p50:%.3f, p90:%.3f' % (p50, p90))"
   ]
  },
  {
   "cell_type": "markdown",
   "id": "extreme-course",
   "metadata": {},
   "source": [
    "## ------------------------"
   ]
  },
  {
   "cell_type": "code",
   "execution_count": 37,
   "id": "located-smooth",
   "metadata": {},
   "outputs": [],
   "source": [
    "# avg_p50 = (14*0.089 + 140*0.062 + 78*0.089 + 24*0.067 + 24*0.053 + 201*0.021) / 605\n",
    "# avg_p90 = (14*0.038 + 140*0.062 + 78*0.063 + 24*0.054 + 24*0.063 + 201*0.027) / 605\n",
    "# print(avg_p50, avg_p90)"
   ]
  },
  {
   "cell_type": "markdown",
   "id": "passive-moral",
   "metadata": {},
   "source": [
    "### --------------------"
   ]
  },
  {
   "cell_type": "code",
   "execution_count": 38,
   "id": "respective-average",
   "metadata": {},
   "outputs": [
    {
     "name": "stdout",
     "output_type": "stream",
     "text": [
      "cuda:0\n"
     ]
    }
   ],
   "source": [
    "device = torch.device(\"cuda:0\" if torch.cuda.is_available() else \"cpu\")\n",
    "print(device)"
   ]
  },
  {
   "cell_type": "code",
   "execution_count": 39,
   "id": "subsequent-builder",
   "metadata": {},
   "outputs": [],
   "source": [
    "load_shp = np.load(\"%sshapelets.npy\" % path)"
   ]
  },
  {
   "cell_type": "code",
   "execution_count": 70,
   "id": "swiss-portsmouth",
   "metadata": {
    "scrolled": true
   },
   "outputs": [],
   "source": [
    "net = ReCNet(shapelets=load_shp, num_inputs=1, num_channels=[4, 8, 16], \n",
    "             backcast_horizon=x.shape[-1], forecast_horizon=y.shape[-1], \n",
    "             kernel_size=2, dropout=0.2, attrs=['SBD']).to(device)"
   ]
  },
  {
   "cell_type": "code",
   "execution_count": 71,
   "id": "scientific-german",
   "metadata": {},
   "outputs": [
    {
     "name": "stdout",
     "output_type": "stream",
     "text": [
      "(160, 1, 220) (160, 1, 55) (40, 1, 220) (40, 1, 55)\n",
      "computing similarity...Done!\n",
      "processing 160/160...Done!\n",
      "computing similarity...Done!\n",
      "processing 40/40...Done!\n",
      "x size: torch.Size([160, 1, 229]) , y size: torch.Size([160, 55])\n",
      "1 batches\n"
     ]
    }
   ],
   "source": [
    "loader, x_train, y_train, x_test, y_test = net.preprocess(x, y, test_size=0.2, batch_size=256)"
   ]
  },
  {
   "cell_type": "code",
   "execution_count": 72,
   "id": "empirical-classification",
   "metadata": {},
   "outputs": [],
   "source": [
    "def tensor2numpy(data):\n",
    "    return torch.Tensor.cpu(data.detach()).numpy()"
   ]
  },
  {
   "cell_type": "code",
   "execution_count": 73,
   "id": "pleasant-elder",
   "metadata": {},
   "outputs": [],
   "source": [
    "def save_model(model, path='best_model.pkl'):\n",
    "    torch.save({'state_dict': model.state_dict()}, path)"
   ]
  },
  {
   "cell_type": "code",
   "execution_count": 74,
   "id": "introductory-angel",
   "metadata": {
    "scrolled": true
   },
   "outputs": [
    {
     "name": "stdout",
     "output_type": "stream",
     "text": [
      "epoch=200, loss=0.104667, time=0.17s per epoch      "
     ]
    }
   ],
   "source": [
    "train_losses, test_losses = net.fit(loader=loader, device=device, epochs=200, learning_rate=1e-2, weight_decay=1e-6)"
   ]
  },
  {
   "cell_type": "code",
   "execution_count": 75,
   "id": "wanted-switzerland",
   "metadata": {},
   "outputs": [
    {
     "data": {
      "image/png": "[encoded data removed]",
      "text/plain": [
       "<Figure size 432x288 with 1 Axes>"
      ]
     },
     "metadata": {
      "needs_background": "light"
     },
     "output_type": "display_data"
    }
   ],
   "source": [
    "plt.figure()\n",
    "dloss = pd.DataFrame({'epoch': np.arange(1, len(train_losses)+1, 1), 'train_loss': train_losses, 'test_loss': test_losses})\n",
    "sns.lineplot(x='epoch', y='train_loss', data=dloss, label='train loss')\n",
    "sns.lineplot(x='epoch', y='test_loss', data=dloss, label='test loss')\n",
    "plt.ylabel('value')\n",
    "plt.legend()\n",
    "plt.show()"
   ]
  },
  {
   "cell_type": "code",
   "execution_count": 79,
   "id": "anonymous-cleveland",
   "metadata": {},
   "outputs": [
    {
     "name": "stdout",
     "output_type": "stream",
     "text": [
      "0\n"
     ]
    },
    {
     "data": {
      "image/png": "[encoded data removed]",
      "text/plain": [
       "<Figure size 432x288 with 1 Axes>"
      ]
     },
     "metadata": {
      "needs_background": "light"
     },
     "output_type": "display_data"
    }
   ],
   "source": [
    "sid = np.random.randint(0, x_test.shape[0])\n",
    "sid=0\n",
    "print(sid)\n",
    "sx = x_test[sid: sid+1, :, :]\n",
    "sy = tensor2numpy(y_test[sid])\n",
    "sy_hat = tensor2numpy(net(sx.to(device)))[0]\n",
    "plt.figure()\n",
    "plt.plot(sy, label='y_true')\n",
    "plt.plot(sy_hat, label='y_pred')\n",
    "plt.legend()\n",
    "plt.show()"
   ]
  },
  {
   "cell_type": "code",
   "execution_count": 289,
   "id": "bright-twins",
   "metadata": {},
   "outputs": [],
   "source": [
    "# np.save('./%s_y.npy' % (dataset), sy)"
   ]
  },
  {
   "cell_type": "code",
   "execution_count": 80,
   "id": "capable-inside",
   "metadata": {},
   "outputs": [],
   "source": [
    "# np.save('./%s_%s_%d_1.npy' % (dataset, str(net.attrs), sid), sy_hat)"
   ]
  },
  {
   "cell_type": "code",
   "execution_count": 81,
   "id": "mental-making",
   "metadata": {},
   "outputs": [],
   "source": [
    "# y_true = np.load('./%s_y.npy' % dataset, allow_pickle=True)\n",
    "# y_VSD = np.load(\"./%s_['VSD']_0.npy\" % dataset, allow_pickle=True)\n",
    "# y_SBD = np.load(\"./%s_['SBD']_0_1.npy\" % dataset, allow_pickle=True)\n",
    "# y_full = np.load(\"./%s_['VSD', 'SBD']_0.npy\" % dataset, allow_pickle=True)"
   ]
  },
  {
   "cell_type": "code",
   "execution_count": 82,
   "id": "higher-paste",
   "metadata": {},
   "outputs": [],
   "source": [
    "x = list(np.arange(1, len(y_true) + 1, 1)) * 3#4\n",
    "value = list(y_true) + list(y_VSD) + list(y_SBD) #+ list(y_full)\n",
    "fusion = ['Ground Truth'] * len(y_true) + ['PARTS-VSD'] * len(y_true) + ['PARTS-SBD'] * len(y_true)# + ['PARTS-Full'] * len(y_true)"
   ]
  },
  {
   "cell_type": "code",
   "execution_count": 83,
   "id": "graphic-connectivity",
   "metadata": {},
   "outputs": [],
   "source": [
    "df = pd.DataFrame({'x': x,\n",
    "                   'y': value,\n",
    "                   'Alignment Case': fusion})"
   ]
  },
  {
   "cell_type": "code",
   "execution_count": 84,
   "id": "norwegian-wednesday",
   "metadata": {},
   "outputs": [
    {
     "data": {
      "text/html": [
       "<div>\n",
       "<style scoped>\n",
       "    .dataframe tbody tr th:only-of-type {\n",
       "        vertical-align: middle;\n",
       "    }\n",
       "\n",
       "    .dataframe tbody tr th {\n",
       "        vertical-align: top;\n",
       "    }\n",
       "\n",
       "    .dataframe thead th {\n",
       "        text-align: right;\n",
       "    }\n",
       "</style>\n",
       "<table border=\"1\" class=\"dataframe\">\n",
       "  <thead>\n",
       "    <tr style=\"text-align: right;\">\n",
       "      <th></th>\n",
       "      <th>x</th>\n",
       "      <th>y</th>\n",
       "      <th>Alignment Case</th>\n",
       "    </tr>\n",
       "  </thead>\n",
       "  <tbody>\n",
       "    <tr>\n",
       "      <th>0</th>\n",
       "      <td>1</td>\n",
       "      <td>0.357702</td>\n",
       "      <td>Ground Truth</td>\n",
       "    </tr>\n",
       "    <tr>\n",
       "      <th>1</th>\n",
       "      <td>2</td>\n",
       "      <td>0.372191</td>\n",
       "      <td>Ground Truth</td>\n",
       "    </tr>\n",
       "    <tr>\n",
       "      <th>2</th>\n",
       "      <td>3</td>\n",
       "      <td>0.457335</td>\n",
       "      <td>Ground Truth</td>\n",
       "    </tr>\n",
       "    <tr>\n",
       "      <th>3</th>\n",
       "      <td>4</td>\n",
       "      <td>0.451434</td>\n",
       "      <td>Ground Truth</td>\n",
       "    </tr>\n",
       "    <tr>\n",
       "      <th>4</th>\n",
       "      <td>5</td>\n",
       "      <td>0.445532</td>\n",
       "      <td>Ground Truth</td>\n",
       "    </tr>\n",
       "    <tr>\n",
       "      <th>...</th>\n",
       "      <td>...</td>\n",
       "      <td>...</td>\n",
       "      <td>...</td>\n",
       "    </tr>\n",
       "    <tr>\n",
       "      <th>160</th>\n",
       "      <td>51</td>\n",
       "      <td>0.599502</td>\n",
       "      <td>PARTS-SBD</td>\n",
       "    </tr>\n",
       "    <tr>\n",
       "      <th>161</th>\n",
       "      <td>52</td>\n",
       "      <td>0.646502</td>\n",
       "      <td>PARTS-SBD</td>\n",
       "    </tr>\n",
       "    <tr>\n",
       "      <th>162</th>\n",
       "      <td>53</td>\n",
       "      <td>0.656163</td>\n",
       "      <td>PARTS-SBD</td>\n",
       "    </tr>\n",
       "    <tr>\n",
       "      <th>163</th>\n",
       "      <td>54</td>\n",
       "      <td>0.658184</td>\n",
       "      <td>PARTS-SBD</td>\n",
       "    </tr>\n",
       "    <tr>\n",
       "      <th>164</th>\n",
       "      <td>55</td>\n",
       "      <td>0.626495</td>\n",
       "      <td>PARTS-SBD</td>\n",
       "    </tr>\n",
       "  </tbody>\n",
       "</table>\n",
       "<p>165 rows × 3 columns</p>\n",
       "</div>"
      ],
      "text/plain": [
       "      x         y Alignment Case\n",
       "0     1  0.357702   Ground Truth\n",
       "1     2  0.372191   Ground Truth\n",
       "2     3  0.457335   Ground Truth\n",
       "3     4  0.451434   Ground Truth\n",
       "4     5  0.445532   Ground Truth\n",
       "..   ..       ...            ...\n",
       "160  51  0.599502      PARTS-SBD\n",
       "161  52  0.646502      PARTS-SBD\n",
       "162  53  0.656163      PARTS-SBD\n",
       "163  54  0.658184      PARTS-SBD\n",
       "164  55  0.626495      PARTS-SBD\n",
       "\n",
       "[165 rows x 3 columns]"
      ]
     },
     "execution_count": 84,
     "metadata": {},
     "output_type": "execute_result"
    }
   ],
   "source": [
    "df"
   ]
  },
  {
   "cell_type": "code",
   "execution_count": 85,
   "id": "lesbian-corruption",
   "metadata": {},
   "outputs": [
    {
     "data": {
      "image/png": "[encoded data removed]",
      "text/plain": [
       "<Figure size 1152x432 with 1 Axes>"
      ]
     },
     "metadata": {
      "needs_background": "light"
     },
     "output_type": "display_data"
    }
   ],
   "source": [
    "fig=plt.figure(figsize=(16,6))\n",
    "sns.set_style('ticks')\n",
    "sns.lineplot(x='x', y='y', hue='Alignment Case', data=df, style='Alignment Case', palette=\"tab10\", linewidth=3)\n",
    "\n",
    "plt.tick_params(labelsize=fontsize, labelcolor=labelcolor)\n",
    "plt.xlabel('')\n",
    "# plt.xlabel('Time Step', fontsize=fontsize, color=labelcolor)\n",
    "plt.ylabel('Value', fontsize=fontsize, color=labelcolor)\n",
    "\n",
    "# plt.ylim(0, 1)\n",
    "plt.xlim(0, len(y_true) + 1)\n",
    "plt.legend(fontsize=25, ncol=4, loc='lower center')\n",
    "    \n",
    "plt.tight_layout()\n",
    "plt.savefig('%s_case.pdf' % (dataset), dpi=1200, format='pdf')\n",
    "plt.show()"
   ]
  },
  {
   "cell_type": "code",
   "execution_count": null,
   "id": "boring-landscape",
   "metadata": {},
   "outputs": [],
   "source": [
    "# def evaluate(x, y, net, clips=12, suppress_output=False):\n",
    "#     y_hat = net(x.to(device))\n",
    "#     y_hat = y_hat[:, :clips]\n",
    "#     y = y[:, :clips].to(device)\n",
    "#     loss = criterion(y_hat, y)\n",
    "#     RMSE = loss.item()# ** 0.5\n",
    "#     MAPE = compute_MAPE(y, y_hat)\n",
    "#     MAE = compute_MAE(y, y_hat)\n",
    "#     if suppress_output == False:\n",
    "#         print('samples: %d - %d\\ntime clips: %d\\nQL: %.2f\\nMAPE: %.2f%%\\nMAE: %.2f' % (y_hat.shape[0], y.shape[0], clips, RMSE, MAPE, MAE))\n",
    "#     return RMSE, MAPE, MAE"
   ]
  },
  {
   "cell_type": "code",
   "execution_count": 51,
   "id": "charitable-finger",
   "metadata": {},
   "outputs": [],
   "source": [
    "def normalized_quantile_loss(x, y, net, q=0.5):\n",
    "    ## From: https://medium.com/the-artificial-impostor/quantile-regression-part-2-6fdbc26b2629\n",
    "    y_hat = net(x.to(device))\n",
    "    y = y.to(device)\n",
    "    \n",
    "    QL = 2.0 * torch.sum(\n",
    "                torch.abs(\n",
    "                    (y_hat - y)\n",
    "                    * ((y_hat >= y).float() - q)\n",
    "                )\n",
    "         )\n",
    "    norm = torch.sum(torch.abs(y))\n",
    "    return QL / norm\n",
    "    if norm > 0:\n",
    "        return QL / norm\n",
    "    else:\n",
    "        return QL / torch.sum(torch.abs(y_hat))"
   ]
  },
  {
   "cell_type": "code",
   "execution_count": 52,
   "id": "reflected-alexander",
   "metadata": {},
   "outputs": [
    {
     "name": "stdout",
     "output_type": "stream",
     "text": [
      "p50:0.059945, p90:0.065512\n"
     ]
    }
   ],
   "source": [
    "p50 = normalized_quantile_loss(x_test, y_test, net, q=0.5).item()\n",
    "p90 = normalized_quantile_loss(x_test, y_test, net, q=0.9).item()\n",
    "print('p50:%.6f, p90:%.6f' % (p50, p90))"
   ]
  },
  {
   "cell_type": "code",
   "execution_count": null,
   "id": "automatic-effort",
   "metadata": {},
   "outputs": [],
   "source": [
    "def multiple_runs(net, loader, device, x_test, y_test,\n",
    "                  run_times=10, epochs=200, learning_rate=1e-3, weight_decay=1e-6):\n",
    "    list_p50, list_p90 = [], []\n",
    "    for time in range(run_times):\n",
    "        print('#----------%d----------#' % (time + 1))\n",
    "        train_losses, test_losses = net.fit(loader=loader, device=device, \n",
    "                                            epochs=epochs, learning_rate=learning_rate, weight_decay=weight_decay)\n",
    "        p50 = normalized_quantile_loss(x_test, y_test, net, q=0.5).item()\n",
    "        p90 = normalized_quantile_loss(x_test, y_test, net, q=0.9).item()\n",
    "        print('p50:%.6f, p90:%.6f' % (p50, p90))\n",
    "        list_p50.append(p50)\n",
    "        list_p90.append(p90)\n",
    "        torch.cuda.empty_cache()\n",
    "    df = pd.DataFrame({'p50': list_p50, 'p90': list_p90})\n",
    "    return df"
   ]
  },
  {
   "cell_type": "code",
   "execution_count": null,
   "id": "recovered-movie",
   "metadata": {},
   "outputs": [],
   "source": [
    "num_inputs=1\n",
    "num_channels=[4, 8, 16]\n",
    "backcast_horizon=x.shape[-1]\n",
    "forecast_horizon=y.shape[-1]\n",
    "kernel_size=2\n",
    "dropout=0.2"
   ]
  },
  {
   "cell_type": "code",
   "execution_count": null,
   "id": "geological-partnership",
   "metadata": {},
   "outputs": [],
   "source": [
    "run_times=10\n",
    "epochs=100\n",
    "learning_rate=1e-2\n",
    "weight_decay=1e-6"
   ]
  },
  {
   "cell_type": "code",
   "execution_count": null,
   "id": "alone-employer",
   "metadata": {
    "scrolled": true
   },
   "outputs": [],
   "source": [
    "# full fusion\n",
    "print('******************** full ********************')\n",
    "net = ReCNet(shapelets=load_shp, num_inputs=num_inputs, num_channels=num_channels, \n",
    "             backcast_horizon=backcast_horizon, forecast_horizon=forecast_horizon, \n",
    "             kernel_size=kernel_size, dropout=dropout, attrs=['VSD', 'SBD']).to(device)\n",
    "loader, x_train, y_train, x_test, y_test = net.preprocess(x, y, test_size=0.2, batch_size=256)\n",
    "df_full = multiple_runs(net, loader, device, x_test, y_test,\n",
    "                        run_times=run_times, epochs=epochs, learning_rate=learning_rate, weight_decay=weight_decay)\n",
    "df_full.to_csv('%s%druns_full.csv' % (path, run_times), index=None)\n",
    "\n",
    "# VSD fusion\n",
    "print('******************** VSD ********************')\n",
    "net = ReCNet(shapelets=load_shp, num_inputs=num_inputs, num_channels=num_channels, \n",
    "             backcast_horizon=backcast_horizon, forecast_horizon=forecast_horizon, \n",
    "             kernel_size=kernel_size, dropout=dropout, attrs=['VSD']).to(device)\n",
    "loader, x_train, y_train, x_test, y_test = net.preprocess(x, y, test_size=0.2, batch_size=256)\n",
    "df_vsd = multiple_runs(net, loader, device, x_test, y_test,\n",
    "                        run_times=run_times, epochs=epochs, learning_rate=learning_rate, weight_decay=weight_decay)\n",
    "df_vsd.to_csv('%s%druns_VSD.csv' % (path, run_times), index=None)\n",
    "\n",
    "# SBD fusion\n",
    "print('******************** SBD ********************')\n",
    "net = ReCNet(shapelets=load_shp, num_inputs=num_inputs, num_channels=num_channels, \n",
    "             backcast_horizon=backcast_horizon, forecast_horizon=forecast_horizon, \n",
    "             kernel_size=kernel_size, dropout=dropout, attrs=['SBD']).to(device)\n",
    "loader, x_train, y_train, x_test, y_test = net.preprocess(x, y, test_size=0.2, batch_size=256)\n",
    "df_sbd = multiple_runs(net, loader, device, x_test, y_test,\n",
    "                        run_times=run_times, epochs=epochs, learning_rate=learning_rate, weight_decay=weight_decay)\n",
    "df_sbd.to_csv('%s%druns_SBD.csv' % (path, run_times), index=None)\n",
    "\n",
    "# none fusion\n",
    "print('******************** none ********************')\n",
    "net = ReCNet(shapelets=load_shp, num_inputs=num_inputs, num_channels=num_channels, \n",
    "             backcast_horizon=backcast_horizon, forecast_horizon=forecast_horizon, \n",
    "             kernel_size=kernel_size, dropout=dropout, attrs=None).to(device)\n",
    "loader, x_train, y_train, x_test, y_test = net.preprocess(x, y, test_size=0.2, batch_size=256)\n",
    "df_none = multiple_runs(net, loader, device, x_test, y_test,\n",
    "                        run_times=run_times, epochs=epochs, learning_rate=learning_rate, weight_decay=weight_decay)\n",
    "df_none.to_csv('%s%druns_none.csv' % (path, run_times), index=None)"
   ]
  },
  {
   "cell_type": "code",
   "execution_count": null,
   "id": "asian-asthma",
   "metadata": {},
   "outputs": [],
   "source": [
    "# p50 = normalized_quantile_loss(x_test, y_test, net, q=0.5).item()\n",
    "# p90 = normalized_quantile_loss(x_test, y_test, net, q=0.9).item()\n",
    "# print('p50:%.3f, p90:%.3f' % (p50, p90))"
   ]
  },
  {
   "cell_type": "code",
   "execution_count": null,
   "id": "celtic-grounds",
   "metadata": {},
   "outputs": [],
   "source": [
    "# # best_net = torch.load('best_model.pkl')\n",
    "# path = './best_model.pkl'\n",
    "# best_net = ReCNet(shapelets=load_shp, num_inputs=1, num_channels=[4, 8, 16], \n",
    "#                   backcast_horizon=x.shape[-1], forecast_horizon=y.shape[-1], \n",
    "#                   kernel_size=2, dropout=0.2).to(device)\n",
    "# checkpoint = torch.load(path)\n",
    "# best_net.load_state_dict(checkpoint['state_dict'])"
   ]
  },
  {
   "cell_type": "code",
   "execution_count": null,
   "id": "earned-discount",
   "metadata": {},
   "outputs": [],
   "source": [
    "dataset = 'Phoneme'\n",
    "path = './%s/' % dataset"
   ]
  },
  {
   "cell_type": "code",
   "execution_count": null,
   "id": "reasonable-dictionary",
   "metadata": {},
   "outputs": [],
   "source": [
    "df_full = pd.read_csv('%s%druns_full.csv' % (path, run_times))\n",
    "df_vsd = pd.read_csv('%s%druns_VSD.csv' % (path, run_times))\n",
    "df_sbd = pd.read_csv('%s%druns_SBD.csv' % (path, run_times))\n",
    "df_none = pd.read_csv('%s%druns_none.csv' % (path, run_times))"
   ]
  },
  {
   "cell_type": "code",
   "execution_count": null,
   "id": "worse-validation",
   "metadata": {},
   "outputs": [],
   "source": [
    "print(np.mean(df_full['p50']), np.mean(df_full['p90']))\n",
    "print(np.mean(df_vsd['p50']), np.mean(df_vsd['p90']))\n",
    "print(np.mean(df_sbd['p50']), np.mean(df_sbd['p90']))\n",
    "print(np.mean(df_none['p50']), np.mean(df_none['p90']))"
   ]
  },
  {
   "cell_type": "code",
   "execution_count": null,
   "id": "lasting-psychiatry",
   "metadata": {},
   "outputs": [],
   "source": [
    "print(np.std(df_full['p50']), np.std(df_full['p90']))\n",
    "print(np.std(df_vsd['p50']), np.std(df_vsd['p90']))\n",
    "print(np.std(df_sbd['p50']), np.std(df_sbd['p90']))\n",
    "print(np.std(df_none['p50']), np.std(df_none['p90']))"
   ]
  },
  {
   "cell_type": "code",
   "execution_count": null,
   "id": "representative-reynolds",
   "metadata": {},
   "outputs": [],
   "source": [
    "metric = (['p50'] * run_times + ['p90'] * run_times) * 4\n",
    "fusion = ['Full'] * 2 * run_times + ['VSD'] * 2 * run_times + ['SBD'] * 2 * run_times + ['None'] * 2 * run_times\n",
    "error = list(df_full['p50']) + list(df_full['p90']) + list(df_vsd['p50']) + list(df_vsd['p90']) \\\n",
    "      + list(df_sbd['p50']) + list(df_sbd['p90']) + list(df_none['p50']) + list(df_none['p90'])"
   ]
  },
  {
   "cell_type": "code",
   "execution_count": null,
   "id": "backed-student",
   "metadata": {},
   "outputs": [],
   "source": [
    "df_box = pd.DataFrame({'metric': metric, 'fusion': fusion, 'error': error})"
   ]
  },
  {
   "cell_type": "code",
   "execution_count": null,
   "id": "native-extreme",
   "metadata": {},
   "outputs": [],
   "source": [
    "df_box"
   ]
  },
  {
   "cell_type": "code",
   "execution_count": null,
   "id": "reverse-laundry",
   "metadata": {},
   "outputs": [],
   "source": [
    "fig=plt.figure(figsize=(8,6))\n",
    "\n",
    "ax1 = sns.barplot(x=\"fusion\", y=\"error\", hue='metric', data=df_box,\n",
    "            palette=\"tab10\", capsize=.2, ci=95)\n",
    "ax2 = sns.stripplot(x=\"fusion\", y=\"error\", hue='metric', data=df_box,\n",
    "              palette=\"rainbow\", size=10, dodge=True,\n",
    "              edgecolor=\"gray\", alpha=.5)\n",
    "\n",
    "# plt.title('%s' % dataset, fontsize=fontsize, color=labelcolor)\n",
    "plt.tick_params(labelsize=fontsize, labelcolor=labelcolor)\n",
    "plt.xlabel('Alignment Cases', fontsize=fontsize, color=labelcolor)\n",
    "plt.ylabel('Error', fontsize=fontsize, color=labelcolor)\n",
    "\n",
    "# plt.ylim(0, 1)\n",
    "plt.legend(fontsize=fontsize // 2, ncol=4, loc='lower center')\n",
    "    \n",
    "plt.tight_layout()\n",
    "plt.savefig('%s%s_ablation_%d.pdf' % (path, dataset, run_times), dpi=1200, format='pdf')\n",
    "plt.show()"
   ]
  },
  {
   "cell_type": "code",
   "execution_count": null,
   "id": "exceptional-wireless",
   "metadata": {},
   "outputs": [],
   "source": [
    "# fig=plt.figure(figsize=(8,6))\n",
    "    \n",
    "# sns.boxplot(x=\"fusion\", y=\"error\", hue=\"metric\", data=df_box)\n",
    "\n",
    "# plt.title('Ablation Evaluation', fontsize=fontsize, color=labelcolor)\n",
    "# plt.tick_params(labelsize=fontsize, labelcolor=labelcolor)\n",
    "# plt.xlabel('fusion modules', fontsize=fontsize, color=labelcolor)\n",
    "# plt.ylabel('error', fontsize=fontsize, color=labelcolor)\n",
    "    \n",
    "# plt.tight_layout()\n",
    "# plt.savefig('%sablation_%d.pdf' % (path, run_times), dpi=1200, format='pdf')\n",
    "# plt.show()"
   ]
  },
  {
   "cell_type": "code",
   "execution_count": null,
   "id": "indonesian-wagon",
   "metadata": {},
   "outputs": [],
   "source": []
  }
 ],
 "metadata": {
  "kernelspec": {
   "display_name": "Python 3",
   "language": "python",
   "name": "python3"
  },
  "language_info": {
   "codemirror_mode": {
    "name": "ipython",
    "version": 3
   },
   "file_extension": ".py",
   "mimetype": "text/x-python",
   "name": "python",
   "nbconvert_exporter": "python",
   "pygments_lexer": "ipython3",
   "version": "3.6.12"
  }
 },
 "nbformat": 4,
 "nbformat_minor": 5
}
