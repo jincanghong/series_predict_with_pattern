{
 "cells": [
  {
   "cell_type": "code",
   "execution_count": 1,
   "metadata": {},
   "outputs": [],
   "source": [
    "import os\n",
    "def get_datasets(path='../UCRArchive_2018'):\n",
    "    dirs = os.listdir(path)\n",
    "    return dirs"
   ]
  },
  {
   "cell_type": "code",
   "execution_count": 2,
   "metadata": {},
   "outputs": [
    {
     "name": "stdout",
     "output_type": "stream",
     "text": [
      "['Fungi', 'Yoga', 'ECGFiveDays', 'Wine', 'Symbols', 'SemgHandGenderCh2', 'FordB', 'SmallKitchenAppliances', 'SonyAIBORobotSurface2', 'MoteStrain', 'MixedShapesSmallTrain', 'Worms', 'UWaveGestureLibraryY', 'TwoLeadECG', 'GunPointAgeSpan', 'UMD', 'CinCECGTorso', 'PhalangesOutlinesCorrect', 'Adiac', 'DodgerLoopWeekend', 'CBF', 'PigCVP', 'DistalPhalanxTW', 'FaceFour', 'Crop', 'ElectricDevices', 'OliveOil', 'Chinatown', 'GunPointOldVersusYoung', 'HouseTwenty', 'UWaveGestureLibraryAll', 'DodgerLoopDay', 'DodgerLoopGame', 'Car', 'AllGestureWiimoteY', 'HandOutlines', 'BirdChicken', 'WordSynonyms', 'SmoothSubspace', 'SyntheticControl', 'BME', 'UWaveGestureLibraryZ', 'TwoPatterns', 'FordA', 'FiftyWords', 'UWaveGestureLibraryX', 'SemgHandMovementCh2', 'FaceAll', 'FreezerSmallTrain', 'ProximalPhalanxTW', 'PickupGestureWiimoteZ', 'DistalPhalanxOutlineAgeGroup', 'Meat', 'MixedShapesRegularTrain', 'AllGestureWiimoteX', 'FacesUCR', 'InsectEPGRegularTrain', 'NonInvasiveFetalECGThorax1', 'ECG200', 'Beef', 'StarLightCurves', 'DiatomSizeReduction', 'PigArtPressure', 'Ham', 'DistalPhalanxOutlineCorrect', 'GesturePebbleZ1', 'ShapeletSim', 'SonyAIBORobotSurface1', 'FreezerRegularTrain', 'ScreenType', 'Lightning2', 'AllGestureWiimoteZ', 'GesturePebbleZ2', 'ToeSegmentation1', 'ECG5000', 'CricketX', 'InsectWingbeatSound', 'GestureMidAirD1', 'Haptics', 'InsectEPGSmallTrain', 'Trace', 'Wafer', 'WormsTwoClass', 'Phoneme', 'SemgHandSubjectCh2', 'Missing_value_and_variable_length_datasets_adjusted', 'PigAirwayPressure', 'Rock', 'Plane', 'ShapesAll', 'Herring', 'Strawberry', 'BeetleFly', 'Computers', 'ItalyPowerDemand', 'CricketZ', 'NonInvasiveFetalECGThorax2', 'MiddlePhalanxTW', 'EOGHorizontalSignal', 'GunPointMaleVersusFemale', 'MiddlePhalanxOutlineCorrect', 'OSULeaf', 'Lightning7', 'SwedishLeaf', 'ToeSegmentation2', 'Mallat', 'ProximalPhalanxOutlineCorrect', 'Earthquakes', 'ACSF1', 'MelbournePedestrian', 'EOGVerticalSignal', 'GunPoint', 'InlineSkate', 'ArrowHead', 'RefrigerationDevices', 'ProximalPhalanxOutlineAgeGroup', 'MiddlePhalanxOutlineAgeGroup', 'GestureMidAirD3', 'Fish', 'PLAID', 'MedicalImages', 'GestureMidAirD2', 'CricketY', 'EthanolLevel', 'ShakeGestureWiimoteZ', 'LargeKitchenAppliances', 'Coffee', 'PowerCons', 'ChlorineConcentration']\n"
     ]
    }
   ],
   "source": [
    "datasets = get_datasets()\n",
    "print(datasets)"
   ]
  },
  {
   "cell_type": "code",
   "execution_count": 3,
   "metadata": {},
   "outputs": [
    {
     "name": "stdout",
     "output_type": "stream",
     "text": [
      "OSULeaf\n"
     ]
    }
   ],
   "source": [
    "dataset = datasets[6]\n",
    "dataset='OSULeaf'\n",
    "print(dataset)"
   ]
  },
  {
   "cell_type": "code",
   "execution_count": 4,
   "metadata": {},
   "outputs": [],
   "source": [
    "import numpy as np\n",
    "data = np.load('./datasets/%s.npy' % dataset, allow_pickle=True).item()\n",
    "value = data['data']"
   ]
  },
  {
   "cell_type": "code",
   "execution_count": 5,
   "metadata": {},
   "outputs": [
    {
     "data": {
      "text/plain": [
       "(442, 427)"
      ]
     },
     "execution_count": 5,
     "metadata": {},
     "output_type": "execute_result"
    }
   ],
   "source": [
    "value.shape"
   ]
  },
  {
   "cell_type": "code",
   "execution_count": 6,
   "metadata": {},
   "outputs": [],
   "source": [
    "def split_x_y(value, ratio=0.2):\n",
    "    y_len = int(value.shape[1] * ratio)\n",
    "    x_len = int(value.shape[1] - y_len)\n",
    "    return value[:, : x_len], value[:, -y_len: ]"
   ]
  },
  {
   "cell_type": "code",
   "execution_count": 7,
   "metadata": {},
   "outputs": [],
   "source": [
    "x, y = split_x_y(value, ratio=0.2)"
   ]
  },
  {
   "cell_type": "code",
   "execution_count": 8,
   "metadata": {},
   "outputs": [],
   "source": [
    "x = x.reshape(x.shape[0], 1, x.shape[-1])\n",
    "y = y.reshape(y.shape[0], 1, y.shape[-1])"
   ]
  },
  {
   "cell_type": "code",
   "execution_count": 9,
   "metadata": {},
   "outputs": [
    {
     "data": {
      "text/plain": [
       "((442, 1, 342), (442, 1, 85))"
      ]
     },
     "execution_count": 9,
     "metadata": {},
     "output_type": "execute_result"
    }
   ],
   "source": [
    "x.shape, y.shape"
   ]
  },
  {
   "cell_type": "code",
   "execution_count": 10,
   "metadata": {},
   "outputs": [],
   "source": [
    "import torch\n",
    "import torch.nn as nn\n",
    "from torch.nn.utils import weight_norm\n",
    "\n",
    "\n",
    "class Chomp1d(nn.Module):\n",
    "    def __init__(self, chomp_size):\n",
    "        super(Chomp1d, self).__init__()\n",
    "        self.chomp_size = chomp_size\n",
    "\n",
    "    def forward(self, x):\n",
    "        return x[:, :, :-self.chomp_size].contiguous()\n",
    "\n",
    "\n",
    "class TemporalBlock(nn.Module):\n",
    "    def __init__(self, n_inputs, n_outputs, kernel_size, stride, dilation, padding, dropout=0.2):\n",
    "        super(TemporalBlock, self).__init__()\n",
    "        self.conv1 = weight_norm(nn.Conv1d(n_inputs, n_outputs, kernel_size,\n",
    "                                           stride=stride, padding=padding, dilation=dilation))\n",
    "        self.chomp1 = Chomp1d(padding)\n",
    "        self.relu1 = nn.ReLU()\n",
    "        self.dropout1 = nn.Dropout(dropout)\n",
    "\n",
    "        self.conv2 = weight_norm(nn.Conv1d(n_outputs, n_outputs, kernel_size,\n",
    "                                           stride=stride, padding=padding, dilation=dilation))\n",
    "        self.chomp2 = Chomp1d(padding)\n",
    "        self.relu2 = nn.ReLU()\n",
    "        self.dropout2 = nn.Dropout(dropout)\n",
    "\n",
    "        self.net = nn.Sequential(self.conv1, self.chomp1, self.relu1, self.dropout1,\n",
    "                                 self.conv2, self.chomp2, self.relu2, self.dropout2)\n",
    "        self.downsample = nn.Conv1d(n_inputs, n_outputs, 1) if n_inputs != n_outputs else None\n",
    "        self.relu = nn.ReLU()\n",
    "        self.init_weights()\n",
    "\n",
    "    def init_weights(self):\n",
    "        self.conv1.weight.data.normal_(0, 0.01)\n",
    "        self.conv2.weight.data.normal_(0, 0.01)\n",
    "        if self.downsample is not None:\n",
    "            self.downsample.weight.data.normal_(0, 0.01)\n",
    "\n",
    "    def forward(self, x):\n",
    "        out = self.net(x)\n",
    "        res = x if self.downsample is None else self.downsample(x)\n",
    "        return self.relu(out + res)\n",
    "#         return self.relu(out)\n",
    "\n",
    "\n",
    "class TemporalConvNet(nn.Module):\n",
    "    def __init__(self, num_inputs, num_channels, backcast_len, forecast_len, kernel_size=2, dropout=0.2):\n",
    "        super(TemporalConvNet, self).__init__()\n",
    "        self.relu = nn.ReLU()\n",
    "        self.backcast_len = backcast_len\n",
    "        self.num_channels = num_channels\n",
    "        layers = []\n",
    "        num_levels = len(num_channels)\n",
    "        for i in range(num_levels):\n",
    "            dilation_size = 2 ** i\n",
    "            in_channels = num_inputs if i == 0 else num_channels[i-1]\n",
    "            out_channels = num_channels[i]\n",
    "            layers += [TemporalBlock(in_channels, out_channels, kernel_size, stride=1, dilation=dilation_size,\n",
    "                                     padding=(kernel_size-1) * dilation_size, dropout=dropout)]\n",
    "        #layers += [nn.Linear(16 * 161, 24)]\n",
    "        self.network = nn.Sequential(*layers)\n",
    "        self.linear1 = nn.Linear(num_channels[-1] * backcast_len, forecast_len)\n",
    "#         self.linear2 = nn.Linear(1024, 24)\n",
    "\n",
    "    def forward(self, x):\n",
    "        x = self.network(x)\n",
    "#         print(x.shape)\n",
    "        x = x.view(-1, self.num_channels[-1] * self.backcast_len)\n",
    "#         print(x.shape)\n",
    "        x = self.linear1(x)\n",
    "#         x = self.linear2(x)\n",
    "#         print(x.shape)\n",
    "        return x"
   ]
  },
  {
   "cell_type": "code",
   "execution_count": 11,
   "metadata": {},
   "outputs": [
    {
     "name": "stdout",
     "output_type": "stream",
     "text": [
      "cuda:0\n"
     ]
    }
   ],
   "source": [
    "device = torch.device(\"cuda:0\" if torch.cuda.is_available() else \"cpu\")\n",
    "print(device)"
   ]
  },
  {
   "cell_type": "code",
   "execution_count": 12,
   "metadata": {},
   "outputs": [],
   "source": [
    "net = TemporalConvNet(num_inputs=1, backcast_len=x.shape[-1], forecast_len=y.shape[-1], num_channels=[4, 8, 16]).to(device)"
   ]
  },
  {
   "cell_type": "code",
   "execution_count": 13,
   "metadata": {},
   "outputs": [],
   "source": [
    "class QuantileLoss(nn.Module):\n",
    "    ## From: https://medium.com/the-artificial-impostor/quantile-regression-part-2-6fdbc26b2629\n",
    "\n",
    "    def __init__(self, quantiles):\n",
    "        ##takes a list of quantiles\n",
    "        super().__init__()\n",
    "        self.quantiles = quantiles\n",
    "        \n",
    "    def forward(self, preds, target):\n",
    "        assert not target.requires_grad\n",
    "        assert preds.size(0) == target.size(0)\n",
    "        losses = []\n",
    "        for i, q in enumerate(self.quantiles):\n",
    "            errors = target - preds\n",
    "            losses.append(\n",
    "                torch.max(\n",
    "                   (q-1) * errors, \n",
    "                   q * errors\n",
    "            ).unsqueeze(1))\n",
    "        loss = torch.mean(\n",
    "            torch.sum(torch.cat(losses, dim=1), dim=1))\n",
    "        return loss"
   ]
  },
  {
   "cell_type": "code",
   "execution_count": 14,
   "metadata": {},
   "outputs": [],
   "source": [
    "import torch.nn as nn\n",
    "import torch\n",
    "import torch.nn.functional as F\n",
    "import torch.utils.data as Data\n",
    "from torch import optim\n",
    "import time"
   ]
  },
  {
   "cell_type": "code",
   "execution_count": 15,
   "metadata": {},
   "outputs": [],
   "source": [
    "from sklearn.model_selection import train_test_split\n",
    "import sklearn.preprocessing as preprocessing\n",
    "import numpy as np\n",
    "import pandas as pd\n",
    "from scipy import signal\n",
    "import time"
   ]
  },
  {
   "cell_type": "code",
   "execution_count": 16,
   "metadata": {},
   "outputs": [
    {
     "name": "stdout",
     "output_type": "stream",
     "text": [
      "(353, 1, 342) (353, 1, 85) (89, 1, 342) (89, 1, 85)\n"
     ]
    }
   ],
   "source": [
    "x_train, x_test, y_train, y_test = train_test_split(x, y, test_size=0.2, random_state=42)\n",
    "print(x_train.shape, y_train.shape, x_test.shape, y_test.shape)"
   ]
  },
  {
   "cell_type": "code",
   "execution_count": 17,
   "metadata": {},
   "outputs": [],
   "source": [
    "x_train = torch.tensor(x_train, dtype=torch.float32)\n",
    "y_train = torch.tensor(y_train, dtype=torch.float32)\n",
    "x_test = torch.tensor(x_test, dtype=torch.float32)\n",
    "y_test = torch.tensor(y_test, dtype=torch.float32)"
   ]
  },
  {
   "cell_type": "code",
   "execution_count": 18,
   "metadata": {},
   "outputs": [
    {
     "name": "stdout",
     "output_type": "stream",
     "text": [
      "torch.Size([353, 85]) torch.Size([89, 85])\n"
     ]
    }
   ],
   "source": [
    "y_train = y_train.reshape(y_train.shape[0], y_train.shape[2])\n",
    "y_test = y_test.reshape(y_test.shape[0], y_test.shape[2])\n",
    "print(y_train.shape, y_test.shape)"
   ]
  },
  {
   "cell_type": "code",
   "execution_count": 19,
   "metadata": {},
   "outputs": [],
   "source": [
    "dataset_train = Data.TensorDataset(x_train, y_train)\n",
    "loader = Data.DataLoader(dataset=dataset_train, batch_size=1024, shuffle=True, num_workers=2)"
   ]
  },
  {
   "cell_type": "code",
   "execution_count": 20,
   "metadata": {
    "scrolled": true
   },
   "outputs": [
    {
     "name": "stdout",
     "output_type": "stream",
     "text": [
      "x size: torch.Size([353, 1, 342]) , y size: torch.Size([353, 85])\n",
      "1 batches\n"
     ]
    }
   ],
   "source": [
    "batch_num = 0\n",
    "for step, (batch_x, batch_y) in enumerate(loader):\n",
    "    print('x size:', batch_x.shape, ', y size:', batch_y.shape)\n",
    "    batch_num += 1\n",
    "print('%d batches' % batch_num)"
   ]
  },
  {
   "cell_type": "code",
   "execution_count": 21,
   "metadata": {},
   "outputs": [],
   "source": [
    "criterion = QuantileLoss([0.1, 0.5, 0.9])\n",
    "optimizer = optim.Adam(net.parameters(), lr=1e-2, weight_decay=1e-6)\n",
    "train_losses, test_losses = [], []"
   ]
  },
  {
   "cell_type": "code",
   "execution_count": 22,
   "metadata": {},
   "outputs": [],
   "source": [
    "def compute_MAPE(y_true, y_pred): \n",
    "    MAPE = torch.mean(torch.abs((y_true - y_pred) / y_true)) * 100 #/ y_true.shape[0]\n",
    "    return MAPE.item()"
   ]
  },
  {
   "cell_type": "code",
   "execution_count": 23,
   "metadata": {
    "scrolled": true
   },
   "outputs": [
    {
     "name": "stdout",
     "output_type": "stream",
     "text": [
      "epoch=100, loss=0.643836, MAPE=1021.404907%, time=0.25s per epoch      "
     ]
    }
   ],
   "source": [
    "epochs = 100\n",
    "\n",
    "for epoch in range(epochs):\n",
    "    t_start = time.time()\n",
    "    running_RMSE, running_MAPE = 0, 0\n",
    "    \n",
    "    for step, (batch_x, batch_y) in enumerate(loader):\n",
    "        input_x = batch_x.to(device)\n",
    "        y = batch_y.to(device)  \n",
    "        \n",
    "        optimizer.zero_grad()\n",
    "        \n",
    "        output_data = net(input_x)\n",
    "        loss = criterion(output_data, y)\n",
    "        \n",
    "        MAPE = compute_MAPE(output_data, y)\n",
    "        #losses.append(MAPE)\n",
    "\n",
    "        loss.backward()\n",
    "        optimizer.step()\n",
    "        \n",
    "        running_RMSE += loss.item()# ** 0.5\n",
    "        running_MAPE += MAPE\n",
    "        #print('step=%d, loss=%.2f' % (step+1, running_loss/(step+1) ))\n",
    "    train_losses.append(running_RMSE / batch_num)\n",
    "    \n",
    "    test_losses.append(criterion(net(x_test.to(device)), y_test.to(device)).item() )# ** 0.5)\n",
    "    t_end = time.time()\n",
    "    \n",
    "    print('\\repoch=%d, loss=%.6f, MAPE=%.6f%%, time=%.2fs per epoch      ' \\\n",
    "          % (epoch+1, running_RMSE / batch_num, running_MAPE / batch_num, t_end-t_start), end='')\n"
   ]
  },
  {
   "cell_type": "code",
   "execution_count": 24,
   "metadata": {},
   "outputs": [],
   "source": [
    "def normalized_quantile_loss(x, y, net, q=0.5):\n",
    "    ## From: https://medium.com/the-artificial-impostor/quantile-regression-part-2-6fdbc26b2629\n",
    "    y_hat = net(x.to(device))\n",
    "    y = y.to(device)\n",
    "    \n",
    "    QL = 2.0 * torch.sum(\n",
    "                torch.abs(\n",
    "                    (y_hat - y)\n",
    "                    * ((y_hat >= y).float() - q)\n",
    "                )\n",
    "         )\n",
    "    norm = torch.sum(torch.abs(y))\n",
    "    if norm > 0:\n",
    "        return QL / norm\n",
    "    else:\n",
    "        return QL / torch.sum(torch.abs(y_hat))\n",
    "    return QL / norm"
   ]
  },
  {
   "cell_type": "code",
   "execution_count": 25,
   "metadata": {},
   "outputs": [],
   "source": [
    "def tensor2numpy(data):\n",
    "    return torch.Tensor.cpu(data.detach()).numpy()"
   ]
  },
  {
   "cell_type": "code",
   "execution_count": 26,
   "metadata": {},
   "outputs": [],
   "source": [
    "import matplotlib.pyplot as plt\n",
    "import seaborn as sns"
   ]
  },
  {
   "cell_type": "code",
   "execution_count": 27,
   "metadata": {},
   "outputs": [
    {
     "data": {
      "image/png": "[encoded data removed]",
      "text/plain": [
       "<Figure size 432x288 with 1 Axes>"
      ]
     },
     "metadata": {
      "needs_background": "light"
     },
     "output_type": "display_data"
    }
   ],
   "source": [
    "plt.figure()\n",
    "dloss = pd.DataFrame({'epoch': np.arange(1, len(train_losses)+1, 1), 'train_loss': train_losses, 'test_loss': test_losses})\n",
    "sns.lineplot(x='epoch', y='train_loss', data=dloss, label='train loss')\n",
    "sns.lineplot(x='epoch', y='test_loss', data=dloss, label='test loss')\n",
    "plt.ylabel('value')\n",
    "plt.legend()\n",
    "plt.show()"
   ]
  },
  {
   "cell_type": "code",
   "execution_count": 28,
   "metadata": {},
   "outputs": [
    {
     "name": "stdout",
     "output_type": "stream",
     "text": [
      "p50:0.546959, p90:0.585321\n"
     ]
    }
   ],
   "source": [
    "p50 = normalized_quantile_loss(x_test, y_test, net, q=0.5).item()\n",
    "p90 = normalized_quantile_loss(x_test, y_test, net, q=0.9).item()\n",
    "print('p50:%.6f, p90:%.6f' % (p50, p90))"
   ]
  },
  {
   "cell_type": "code",
   "execution_count": 29,
   "metadata": {},
   "outputs": [
    {
     "name": "stdout",
     "output_type": "stream",
     "text": [
      "78\n"
     ]
    },
    {
     "data": {
      "image/png": "[encoded data removed]",
      "text/plain": [
       "<Figure size 432x288 with 1 Axes>"
      ]
     },
     "metadata": {
      "needs_background": "light"
     },
     "output_type": "display_data"
    }
   ],
   "source": [
    "sid = np.random.randint(0, x_test.shape[0])\n",
    "print(sid)\n",
    "sx = x_test[sid: sid+1, :, :]\n",
    "sy = tensor2numpy(y_test[sid])\n",
    "sy_hat = tensor2numpy(net(sx.to(device)))[0]\n",
    "plt.figure()\n",
    "plt.plot(sy, label='y_true')\n",
    "plt.plot(sy_hat, label='y_pred')\n",
    "plt.legend()\n",
    "plt.show()"
   ]
  },
  {
   "cell_type": "code",
   "execution_count": 30,
   "metadata": {},
   "outputs": [],
   "source": [
    "y_pred = net(x_test.to(device))"
   ]
  },
  {
   "cell_type": "code",
   "execution_count": 31,
   "metadata": {},
   "outputs": [],
   "source": [
    "def compute_QL(y_hat, y, q=0.5):\n",
    "    y_hat = y_hat.to(device)\n",
    "    y = y.to(device)\n",
    "    \n",
    "    QL = 2.0 * torch.sum(\n",
    "                    torch.abs(\n",
    "                        (y_hat - y)\n",
    "                        * ((y_hat >= y).float() - q)\n",
    "                    )\n",
    "             )\n",
    "    norm = torch.sum(torch.abs(y))\n",
    "    if norm > 0:\n",
    "        return QL / norm\n",
    "    else:\n",
    "        return QL / torch.sum(torch.abs(y_hat))\n",
    "    return QL / norm"
   ]
  },
  {
   "cell_type": "code",
   "execution_count": 32,
   "metadata": {},
   "outputs": [],
   "source": [
    "clips = y.shape[-1]\n",
    "p50, p90 = [], []\n",
    "for i in range(1, clips+1, 1):\n",
    "    y_true_i = y_test[:, :i]\n",
    "    y_pred_i = y_pred[:, :i]\n",
    "    p50i = compute_QL(y_pred_i, y_true_i, q=0.5).item()\n",
    "    p90i = compute_QL(y_pred_i, y_true_i, q=0.9).item()\n",
    "    p50.append(p50i)\n",
    "    p90.append(p90i)"
   ]
  },
  {
   "cell_type": "code",
   "execution_count": 33,
   "metadata": {
    "scrolled": true
   },
   "outputs": [
    {
     "data": {
      "text/plain": [
       "[0.4540574848651886,\n",
       " 0.4521059989929199,\n",
       " 0.46051499247550964,\n",
       " 0.4702588617801666,\n",
       " 0.47890233993530273,\n",
       " 0.4851582646369934,\n",
       " 0.4922885000705719,\n",
       " 0.49904340505599976,\n",
       " 0.5056713819503784,\n",
       " 0.5123434662818909,\n",
       " 0.5189569592475891,\n",
       " 0.5245868563652039,\n",
       " 0.5294949412345886,\n",
       " 0.5329854488372803,\n",
       " 0.5384929776191711,\n",
       " 0.5409730672836304,\n",
       " 0.5446703433990479,\n",
       " 0.5491993427276611,\n",
       " 0.5545347332954407,\n",
       " 0.5596315264701843,\n",
       " 0.5642250776290894,\n",
       " 0.5692357420921326,\n",
       " 0.5732206106185913,\n",
       " 0.576815664768219,\n",
       " 0.5803927183151245,\n",
       " 0.5841520428657532,\n",
       " 0.5876486897468567,\n",
       " 0.5907475352287292,\n",
       " 0.5930701494216919,\n",
       " 0.5951464772224426,\n",
       " 0.5971624851226807,\n",
       " 0.5982259511947632,\n",
       " 0.5995794534683228,\n",
       " 0.6007177829742432,\n",
       " 0.6017343997955322,\n",
       " 0.6029697060585022,\n",
       " 0.6042423248291016,\n",
       " 0.6055654287338257,\n",
       " 0.6069229245185852,\n",
       " 0.6082558631896973,\n",
       " 0.6096952557563782,\n",
       " 0.6108420491218567,\n",
       " 0.6120416522026062,\n",
       " 0.613365650177002,\n",
       " 0.6145727038383484,\n",
       " 0.6160139441490173,\n",
       " 0.6174516081809998,\n",
       " 0.6186690926551819,\n",
       " 0.6199238896369934,\n",
       " 0.621023416519165,\n",
       " 0.6223374009132385,\n",
       " 0.6235901713371277,\n",
       " 0.6247379779815674,\n",
       " 0.6260610818862915,\n",
       " 0.6270022988319397,\n",
       " 0.6276659369468689,\n",
       " 0.6278920769691467,\n",
       " 0.6280057430267334,\n",
       " 0.627912163734436,\n",
       " 0.6279422044754028,\n",
       " 0.6277364492416382,\n",
       " 0.6271466016769409,\n",
       " 0.6262017488479614,\n",
       " 0.6250017285346985,\n",
       " 0.6237598657608032,\n",
       " 0.6226565837860107,\n",
       " 0.6215416193008423,\n",
       " 0.6204062104225159,\n",
       " 0.6193019151687622,\n",
       " 0.6180340051651001,\n",
       " 0.6165063381195068,\n",
       " 0.6148041486740112,\n",
       " 0.6126546263694763,\n",
       " 0.6099565029144287,\n",
       " 0.606654942035675,\n",
       " 0.6029589772224426,\n",
       " 0.5987022519111633,\n",
       " 0.5939607620239258,\n",
       " 0.5888530611991882,\n",
       " 0.5832653045654297,\n",
       " 0.5772840976715088,\n",
       " 0.5710263252258301,\n",
       " 0.56452876329422,\n",
       " 0.5578649044036865,\n",
       " 0.5509675145149231]"
      ]
     },
     "execution_count": 33,
     "metadata": {},
     "output_type": "execute_result"
    }
   ],
   "source": [
    "p50"
   ]
  },
  {
   "cell_type": "markdown",
   "metadata": {},
   "source": [
    "## p90"
   ]
  },
  {
   "cell_type": "code",
   "execution_count": 34,
   "metadata": {
    "scrolled": true
   },
   "outputs": [
    {
     "data": {
      "text/plain": [
       "[0.5274253487586975,\n",
       " 0.4794359505176544,\n",
       " 0.46413323283195496,\n",
       " 0.45968127250671387,\n",
       " 0.4881482422351837,\n",
       " 0.48715871572494507,\n",
       " 0.48719826340675354,\n",
       " 0.4880537986755371,\n",
       " 0.48913928866386414,\n",
       " 0.4909437894821167,\n",
       " 0.4938676059246063,\n",
       " 0.49836066365242004,\n",
       " 0.5037561058998108,\n",
       " 0.5111211538314819,\n",
       " 0.525342583656311,\n",
       " 0.5320004224777222,\n",
       " 0.5405965447425842,\n",
       " 0.5478426814079285,\n",
       " 0.5542463064193726,\n",
       " 0.5598092079162598,\n",
       " 0.5652186274528503,\n",
       " 0.5711414813995361,\n",
       " 0.575762152671814,\n",
       " 0.5795010924339294,\n",
       " 0.5843216180801392,\n",
       " 0.59178227186203,\n",
       " 0.5987126231193542,\n",
       " 0.6043961048126221,\n",
       " 0.609807014465332,\n",
       " 0.6148350834846497,\n",
       " 0.6211457848548889,\n",
       " 0.6246702075004578,\n",
       " 0.630007266998291,\n",
       " 0.6348935961723328,\n",
       " 0.6388606429100037,\n",
       " 0.6427700519561768,\n",
       " 0.6471782922744751,\n",
       " 0.6508538722991943,\n",
       " 0.6545122861862183,\n",
       " 0.6579380035400391,\n",
       " 0.6619430184364319,\n",
       " 0.6651014089584351,\n",
       " 0.6680868268013,\n",
       " 0.6714069247245789,\n",
       " 0.6742337346076965,\n",
       " 0.6770874261856079,\n",
       " 0.6795688271522522,\n",
       " 0.6814717054367065,\n",
       " 0.6839127540588379,\n",
       " 0.6855958104133606,\n",
       " 0.6876577734947205,\n",
       " 0.6901334524154663,\n",
       " 0.6916091442108154,\n",
       " 0.6938285231590271,\n",
       " 0.6950170993804932,\n",
       " 0.6960708498954773,\n",
       " 0.6961686611175537,\n",
       " 0.6960665583610535,\n",
       " 0.6950134634971619,\n",
       " 0.6943303346633911,\n",
       " 0.6931121349334717,\n",
       " 0.6920952796936035,\n",
       " 0.690484881401062,\n",
       " 0.6884475350379944,\n",
       " 0.6868928670883179,\n",
       " 0.6848607659339905,\n",
       " 0.6826158761978149,\n",
       " 0.6802670359611511,\n",
       " 0.6780744791030884,\n",
       " 0.6760190725326538,\n",
       " 0.6735154390335083,\n",
       " 0.6700282096862793,\n",
       " 0.6660311818122864,\n",
       " 0.661548912525177,\n",
       " 0.6564158797264099,\n",
       " 0.6508945226669312,\n",
       " 0.6450408101081848,\n",
       " 0.6384854912757874,\n",
       " 0.6317031383514404,\n",
       " 0.6246523261070251,\n",
       " 0.6173889636993408,\n",
       " 0.6098352074623108,\n",
       " 0.6024883985519409,\n",
       " 0.5951060652732849,\n",
       " 0.5877373814582825]"
      ]
     },
     "execution_count": 34,
     "metadata": {},
     "output_type": "execute_result"
    }
   ],
   "source": [
    "p90"
   ]
  },
  {
   "cell_type": "code",
   "execution_count": null,
   "metadata": {},
   "outputs": [],
   "source": []
  },
  {
   "cell_type": "code",
   "execution_count": null,
   "metadata": {},
   "outputs": [],
   "source": []
  }
 ],
 "metadata": {
  "kernelspec": {
   "display_name": "Python 3",
   "language": "python",
   "name": "python3"
  },
  "language_info": {
   "codemirror_mode": {
    "name": "ipython",
    "version": 3
   },
   "file_extension": ".py",
   "mimetype": "text/x-python",
   "name": "python",
   "nbconvert_exporter": "python",
   "pygments_lexer": "ipython3",
   "version": "3.6.12"
  },
  "output_auto_scroll": true
 },
 "nbformat": 4,
 "nbformat_minor": 4
}
